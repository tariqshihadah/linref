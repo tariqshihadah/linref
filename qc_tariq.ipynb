{
 "cells": [
  {
   "cell_type": "markdown",
   "metadata": {},
   "source": [
    "To-do:\n",
    "- Create generic point and linear sample data sets for testing\n",
    "- Review existing features for expected behavior, standard terminology, ease of use\n",
    "- Unit testing of basic functionality of `events` module\n",
    "  - Initialization, validation, dtype\n",
    "  - Modification and analysis features\n",
    "- Review, refine documentation of `events` module\n"
   ]
  },
  {
   "cell_type": "markdown",
   "metadata": {},
   "source": [
    "# Dependencies"
   ]
  },
  {
   "cell_type": "code",
   "execution_count": 1,
   "metadata": {},
   "outputs": [],
   "source": [
    "from linref.events import Rangel\n",
    "import numpy as np\n",
    "import pandas as pd\n",
    "import scipy.sparse as sparse\n",
    "import geopandas as gpd\n",
    "import os"
   ]
  },
  {
   "cell_type": "markdown",
   "metadata": {},
   "source": [
    "# Sample Data"
   ]
  },
  {
   "cell_type": "code",
   "execution_count": 2,
   "metadata": {},
   "outputs": [],
   "source": [
    "df_linear_1 = pd.read_csv(os.path.join('testing', 'data', 'linear-events-1.csv'), index_col='id')\n",
    "df_linear_2 = pd.read_csv(os.path.join('testing', 'data', 'linear-events-2.csv'), index_col='id')\n",
    "df_point_1 = pd.read_csv(os.path.join('testing', 'data', 'point-events-1.csv'), index_col='crash_id')"
   ]
  },
  {
   "cell_type": "code",
   "execution_count": 3,
   "metadata": {},
   "outputs": [],
   "source": [
    "rng_linear_1 = Rangel(\n",
    "    index=df_linear_1.index,\n",
    "    groups=df_linear_1[['county', 'road_name']].to_records(index=False),\n",
    "    begs=df_linear_1['begin_mp'],\n",
    "    ends=df_linear_1['end_mp'],\n",
    "    closed='left_mod'\n",
    ")\n",
    "rng_linear_2 = Rangel(\n",
    "    index=df_linear_2.index,\n",
    "    groups=df_linear_2[['county', 'road_name']].to_records(index=False),\n",
    "    begs=df_linear_2['begin_mp'],\n",
    "    ends=df_linear_2['end_mp'],\n",
    "    closed='left_mod'\n",
    ")\n",
    "rng_point_1 = Rangel(\n",
    "    index=df_point_1.index,\n",
    "    groups=df_point_1[['county', 'road_name']].to_records(index=False),\n",
    "    locs=df_point_1['mp']\n",
    ")"
   ]
  },
  {
   "cell_type": "code",
   "execution_count": 4,
   "metadata": {},
   "outputs": [
    {
     "data": {
      "text/plain": [
       "16"
      ]
     },
     "execution_count": 4,
     "metadata": {},
     "output_type": "execute_result"
    }
   ],
   "source": [
    "df_linear_2[['county', 'road_name']].to_records(index=False).itemsize"
   ]
  },
  {
   "cell_type": "code",
   "execution_count": 5,
   "metadata": {},
   "outputs": [
    {
     "data": {
      "text/plain": [
       "0"
      ]
     },
     "execution_count": 5,
     "metadata": {},
     "output_type": "execute_result"
    }
   ],
   "source": [
    "np.array(('Cook', 'LA'), dtype=rng_linear_1.groups.dtype).ndim"
   ]
  },
  {
   "cell_type": "markdown",
   "metadata": {},
   "source": [
    "# Example Features"
   ]
  },
  {
   "cell_type": "code",
   "execution_count": 6,
   "metadata": {},
   "outputs": [
    {
     "data": {
      "text/plain": [
       "0, group(('Los Angeles', 'Mai) [0.000, 1.200]\n",
       "1, group(('Los Angeles', 'Mai) [1.400, 2.500)\n",
       "2, group(('Los Angeles', 'Mai) [2.500, 3.700]\n",
       "3, group(('Los Angeles', 'Mai) [3.900, 4.800)\n",
       "4, group(('Los Angeles', 'Mai) [4.800, 5.900]\n",
       "...90 records...\n",
       "95, group(('King', '4th Ave')) [0.000, 1.200]\n",
       "96, group(('King', '4th Ave')) [1.400, 2.400)\n",
       "97, group(('King', '4th Ave')) [2.400, 3.500]\n",
       "98, group(('King', '4th Ave')) [3.700, 4.700)\n",
       "99, group(('King', '4th Ave')) [4.700, 5.800]\n",
       "Rangel(100 grouped, monotonic linear events, closed=left_mod)"
      ]
     },
     "execution_count": 6,
     "metadata": {},
     "output_type": "execute_result"
    }
   ],
   "source": [
    "rng_linear_1"
   ]
  },
  {
   "cell_type": "markdown",
   "metadata": {},
   "source": [
    "## Selection"
   ]
  },
  {
   "cell_type": "code",
   "execution_count": 7,
   "metadata": {},
   "outputs": [
    {
     "data": {
      "text/plain": [
       "0, group(('Los Angeles', 'Mai) [0.000, 1.200]\n",
       "1, group(('Los Angeles', 'Mai) [1.400, 2.500)\n",
       "2, group(('Los Angeles', 'Mai) [2.500, 3.700]\n",
       "3, group(('Los Angeles', 'Mai) [3.900, 4.800)\n",
       "4, group(('Los Angeles', 'Mai) [4.800, 5.900]\n",
       "Rangel(5 grouped, monotonic linear events, closed=left_mod)"
      ]
     },
     "execution_count": 7,
     "metadata": {},
     "output_type": "execute_result"
    }
   ],
   "source": [
    "rng_linear_1[:5]"
   ]
  },
  {
   "cell_type": "code",
   "execution_count": 10,
   "metadata": {},
   "outputs": [
    {
     "data": {
      "text/plain": [
       "0, group(('Los Angeles', 'Mai) [0.000, 1.200]\n",
       "1, group(('Los Angeles', 'Mai) [1.400, 2.500)\n",
       "2, group(('Los Angeles', 'Mai) [2.500, 3.700]\n",
       "3, group(('Los Angeles', 'Mai) [3.900, 4.800)\n",
       "4, group(('Los Angeles', 'Mai) [4.800, 5.900]\n",
       "...4 records...\n",
       "95, group(('King', '4th Ave')) [0.000, 1.200]\n",
       "96, group(('King', '4th Ave')) [1.400, 2.400)\n",
       "97, group(('King', '4th Ave')) [2.400, 3.500]\n",
       "98, group(('King', '4th Ave')) [3.700, 4.700)\n",
       "99, group(('King', '4th Ave')) [4.700, 5.800]\n",
       "Rangel(14 grouped, monotonic linear events, closed=left_mod)"
      ]
     },
     "execution_count": 10,
     "metadata": {},
     "output_type": "execute_result"
    }
   ],
   "source": [
    "rng_linear_1.select_group([('King', '4th Ave'), ('Los Angeles', 'Main St')])"
   ]
  },
  {
   "cell_type": "code",
   "execution_count": 9,
   "metadata": {},
   "outputs": [
    {
     "data": {
      "text/plain": [
       "5, group(Main St      ) [10.000, 11.100)\n",
       "6, group(Main St      ) [11.000, 12.300]\n",
       "7, group(Main St      ) [12.400, 13.400)\n",
       "8, group(Main St      ) [13.300, 14.000]\n",
       "15, group(State St     ) [11.000, 12.000)\n",
       "...5 records....\n",
       "33, group(Central Ave  ) [12.100, 13.200)\n",
       "34, group(Central Ave  ) [13.100, 14.300]\n",
       "66, group(Elm St       ) [10.800, 12.000]\n",
       "73, group(1st Ave      ) [10.900, 12.100]\n",
       "74, group(1st Ave      ) [12.200, 13.300]\n",
       "Rangel(15 grouped, monotonic linear events, closed=left_mod)"
      ]
     },
     "execution_count": 9,
     "metadata": {},
     "output_type": "execute_result"
    }
   ],
   "source": [
    "rng_linear_2[rng_linear_2.begs >= 10]"
   ]
  },
  {
   "cell_type": "markdown",
   "metadata": {},
   "source": [
    "## Sorting"
   ]
  },
  {
   "cell_type": "code",
   "execution_count": 10,
   "metadata": {},
   "outputs": [
    {
     "ename": "ValueError",
     "evalue": "Input selector must be a 1D array-like object.",
     "output_type": "error",
     "traceback": [
      "\u001b[0;31m---------------------------------------------------------------------------\u001b[0m",
      "\u001b[0;31mValueError\u001b[0m                                Traceback (most recent call last)",
      "Cell \u001b[0;32mIn[10], line 1\u001b[0m\n\u001b[0;32m----> 1\u001b[0m \u001b[43mrng_linear_1\u001b[49m\u001b[38;5;241;43m.\u001b[39;49m\u001b[43msort\u001b[49m\u001b[43m(\u001b[49m\u001b[43mby\u001b[49m\u001b[38;5;241;43m=\u001b[39;49m\u001b[38;5;124;43m'\u001b[39;49m\u001b[38;5;124;43mgroups\u001b[39;49m\u001b[38;5;124;43m'\u001b[39;49m\u001b[43m)\u001b[49m\n",
      "File \u001b[0;32m~/code/linref/linref/events/base.py:573\u001b[0m, in \u001b[0;36msort\u001b[0;34m(self, by, ascending, return_inverse, inplace)\u001b[0m\n\u001b[1;32m    570\u001b[0m index \u001b[38;5;241m=\u001b[39m np\u001b[38;5;241m.\u001b[39mlexsort(by)\n\u001b[1;32m    572\u001b[0m \u001b[38;5;66;03m# Apply changes\u001b[39;00m\n\u001b[0;32m--> 573\u001b[0m res \u001b[38;5;241m=\u001b[39m \u001b[38;5;28mself\u001b[39m \u001b[38;5;28;01mif\u001b[39;00m inplace \u001b[38;5;28;01melse\u001b[39;00m \u001b[38;5;28mself\u001b[39m\u001b[38;5;241m.\u001b[39mcopy()\n\u001b[1;32m    574\u001b[0m res \u001b[38;5;241m=\u001b[39m res\u001b[38;5;241m.\u001b[39mselect(index, ignore\u001b[38;5;241m=\u001b[39m\u001b[38;5;28;01mTrue\u001b[39;00m, inplace\u001b[38;5;241m=\u001b[39m\u001b[38;5;28;01mFalse\u001b[39;00m)\n\u001b[1;32m    575\u001b[0m res \u001b[38;5;241m=\u001b[39m res \u001b[38;5;28;01mif\u001b[39;00m \u001b[38;5;129;01mnot\u001b[39;00m return_inverse \u001b[38;5;28;01melse\u001b[39;00m (res, index)\n",
      "File \u001b[0;32m~/code/linref/linref/events/base.py:425\u001b[0m, in \u001b[0;36mRangel.select\u001b[0;34m(self, selector, ignore, inplace)\u001b[0m\n\u001b[1;32m    409\u001b[0m \u001b[38;5;28;01mdef\u001b[39;00m \u001b[38;5;21mselect\u001b[39m(\u001b[38;5;28mself\u001b[39m, selector, ignore\u001b[38;5;241m=\u001b[39m\u001b[38;5;28;01mFalse\u001b[39;00m, inplace\u001b[38;5;241m=\u001b[39m\u001b[38;5;28;01mFalse\u001b[39;00m):\n\u001b[1;32m    410\u001b[0m \u001b[38;5;250m    \u001b[39m\u001b[38;5;124;03m\"\"\"\u001b[39;00m\n\u001b[1;32m    411\u001b[0m \u001b[38;5;124;03m    Select events by index, slice, or boolean mask. Use ignore=True to use \u001b[39;00m\n\u001b[1;32m    412\u001b[0m \u001b[38;5;124;03m    a generic, 0-based index, ignoring the current index values.\u001b[39;00m\n\u001b[0;32m   (...)\u001b[0m\n\u001b[1;32m    423\u001b[0m \u001b[38;5;124;03m        Whether to perform the operation in place, returning None.\u001b[39;00m\n\u001b[1;32m    424\u001b[0m \u001b[38;5;124;03m    \"\"\"\u001b[39;00m\n\u001b[0;32m--> 425\u001b[0m     \u001b[38;5;28;01mreturn\u001b[39;00m \u001b[43mselection\u001b[49m\u001b[38;5;241;43m.\u001b[39;49m\u001b[43mselect\u001b[49m\u001b[43m(\u001b[49m\u001b[38;5;28;43mself\u001b[39;49m\u001b[43m,\u001b[49m\u001b[43m \u001b[49m\u001b[43mselector\u001b[49m\u001b[43m,\u001b[49m\u001b[43m \u001b[49m\u001b[43mignore\u001b[49m\u001b[38;5;241;43m=\u001b[39;49m\u001b[43mignore\u001b[49m\u001b[43m,\u001b[49m\u001b[43m \u001b[49m\u001b[43minplace\u001b[49m\u001b[38;5;241;43m=\u001b[39;49m\u001b[43minplace\u001b[49m\u001b[43m)\u001b[49m\n",
      "File \u001b[0;32m~/code/linref/linref/events/selection.py:162\u001b[0m, in \u001b[0;36mselect\u001b[0;34m(rng, selector, ignore, inplace)\u001b[0m\n\u001b[1;32m    144\u001b[0m \u001b[38;5;28;01mdef\u001b[39;00m \u001b[38;5;21mselect\u001b[39m(rng, selector, ignore\u001b[38;5;241m=\u001b[39m\u001b[38;5;28;01mFalse\u001b[39;00m, inplace\u001b[38;5;241m=\u001b[39m\u001b[38;5;28;01mFalse\u001b[39;00m):\n\u001b[1;32m    145\u001b[0m \u001b[38;5;250m    \u001b[39m\u001b[38;5;124;03m\"\"\"\u001b[39;00m\n\u001b[1;32m    146\u001b[0m \u001b[38;5;124;03m    Select events by index, slice, or boolean mask. Use ignore=True to use \u001b[39;00m\n\u001b[1;32m    147\u001b[0m \u001b[38;5;124;03m    a generic, 0-based index, ignoring the current index values.\u001b[39;00m\n\u001b[0;32m   (...)\u001b[0m\n\u001b[1;32m    160\u001b[0m \u001b[38;5;124;03m        Whether to perform the operation in place, returning None.\u001b[39;00m\n\u001b[1;32m    161\u001b[0m \u001b[38;5;124;03m    \"\"\"\u001b[39;00m\n\u001b[0;32m--> 162\u001b[0m     selector \u001b[38;5;241m=\u001b[39m \u001b[43m_validate_any_selector\u001b[49m\u001b[43m(\u001b[49m\u001b[43mrng\u001b[49m\u001b[43m,\u001b[49m\u001b[43m \u001b[49m\u001b[43mselector\u001b[49m\u001b[43m,\u001b[49m\u001b[43m \u001b[49m\u001b[43mignore\u001b[49m\u001b[38;5;241;43m=\u001b[39;49m\u001b[43mignore\u001b[49m\u001b[43m)\u001b[49m\n\u001b[1;32m    163\u001b[0m     \u001b[38;5;28;01mreturn\u001b[39;00m _apply_selector(rng, selector, inplace\u001b[38;5;241m=\u001b[39minplace)\n",
      "File \u001b[0;32m~/code/linref/linref/events/selection.py:17\u001b[0m, in \u001b[0;36m_validate_any_selector\u001b[0;34m(rng, selector, ignore)\u001b[0m\n\u001b[1;32m     15\u001b[0m         selector \u001b[38;5;241m=\u001b[39m _validate_boolean_selector(rng, selector)\n\u001b[1;32m     16\u001b[0m     \u001b[38;5;28;01melse\u001b[39;00m:\n\u001b[0;32m---> 17\u001b[0m         selector \u001b[38;5;241m=\u001b[39m \u001b[43m_validate_index_selector\u001b[49m\u001b[43m(\u001b[49m\u001b[43mrng\u001b[49m\u001b[43m,\u001b[49m\u001b[43m \u001b[49m\u001b[43mselector\u001b[49m\u001b[43m,\u001b[49m\u001b[43m \u001b[49m\u001b[43mignore\u001b[49m\u001b[43m)\u001b[49m\n\u001b[1;32m     18\u001b[0m \u001b[38;5;28;01melse\u001b[39;00m:\n\u001b[1;32m     19\u001b[0m     \u001b[38;5;28;01mraise\u001b[39;00m \u001b[38;5;167;01mValueError\u001b[39;00m(\n\u001b[1;32m     20\u001b[0m         \u001b[38;5;124m\"\u001b[39m\u001b[38;5;124mInput selector must be a slice object, boolean array, or an \u001b[39m\u001b[38;5;124m\"\u001b[39m\n\u001b[1;32m     21\u001b[0m         \u001b[38;5;124m\"\u001b[39m\u001b[38;5;124marray of event indices.\u001b[39m\u001b[38;5;124m\"\u001b[39m)\n",
      "File \u001b[0;32m~/code/linref/linref/events/selection.py:67\u001b[0m, in \u001b[0;36m_validate_index_selector\u001b[0;34m(rng, selector, ignore)\u001b[0m\n\u001b[1;32m     64\u001b[0m     \u001b[38;5;28;01mraise\u001b[39;00m \u001b[38;5;167;01mValueError\u001b[39;00m(\n\u001b[1;32m     65\u001b[0m         \u001b[38;5;124m\"\u001b[39m\u001b[38;5;124mInput selector must be an array-like object.\u001b[39m\u001b[38;5;124m\"\u001b[39m)\n\u001b[1;32m     66\u001b[0m \u001b[38;5;28;01mif\u001b[39;00m \u001b[38;5;129;01mnot\u001b[39;00m selector\u001b[38;5;241m.\u001b[39mndim \u001b[38;5;241m==\u001b[39m \u001b[38;5;241m1\u001b[39m:\n\u001b[0;32m---> 67\u001b[0m     \u001b[38;5;28;01mraise\u001b[39;00m \u001b[38;5;167;01mValueError\u001b[39;00m(\n\u001b[1;32m     68\u001b[0m         \u001b[38;5;124m\"\u001b[39m\u001b[38;5;124mInput selector must be a 1D array-like object.\u001b[39m\u001b[38;5;124m\"\u001b[39m)\n\u001b[1;32m     69\u001b[0m \u001b[38;5;28;01mif\u001b[39;00m ignore \u001b[38;5;129;01mand\u001b[39;00m \u001b[38;5;129;01mnot\u001b[39;00m np\u001b[38;5;241m.\u001b[39missubdtype(selector\u001b[38;5;241m.\u001b[39mdtype, np\u001b[38;5;241m.\u001b[39minteger):\n\u001b[1;32m     70\u001b[0m     \u001b[38;5;28;01mraise\u001b[39;00m \u001b[38;5;167;01mValueError\u001b[39;00m(\n\u001b[1;32m     71\u001b[0m         \u001b[38;5;124m\"\u001b[39m\u001b[38;5;124mWhen ignoring the set index, input selector must be an array of \u001b[39m\u001b[38;5;124m\"\u001b[39m\n\u001b[1;32m     72\u001b[0m         \u001b[38;5;124m\"\u001b[39m\u001b[38;5;124mintegers.\u001b[39m\u001b[38;5;124m\"\u001b[39m)\n",
      "\u001b[0;31mValueError\u001b[0m: Input selector must be a 1D array-like object."
     ]
    }
   ],
   "source": [
    "rng_linear_1.sort(by='groups')"
   ]
  },
  {
   "cell_type": "code",
   "execution_count": 25,
   "metadata": {},
   "outputs": [
    {
     "data": {
      "text/plain": [
       "array([['a', 'b'],\n",
       "       ['a', 'c'],\n",
       "       ['c', 'b'],\n",
       "       ['d', 'a'],\n",
       "       ['a', 'b'],\n",
       "       ['z', 'a']], dtype='<U1')"
      ]
     },
     "execution_count": 25,
     "metadata": {},
     "output_type": "execute_result"
    }
   ],
   "source": [
    "arr = np.array([['a', 'b'], ['a', 'c'], ['c', 'b'], ['d', 'a'], ['a', 'b'], ['z', 'a']])\n",
    "arr"
   ]
  },
  {
   "cell_type": "code",
   "execution_count": 21,
   "metadata": {},
   "outputs": [
    {
     "data": {
      "text/plain": [
       "array([[0, 3],\n",
       "       [1, 5],\n",
       "       [4, 0],\n",
       "       [2, 2],\n",
       "       [3, 4],\n",
       "       [5, 1]])"
      ]
     },
     "execution_count": 21,
     "metadata": {},
     "output_type": "execute_result"
    }
   ],
   "source": [
    "np.argsort(arr, axis=0)"
   ]
  },
  {
   "cell_type": "code",
   "execution_count": 28,
   "metadata": {},
   "outputs": [
    {
     "data": {
      "text/plain": [
       "array([3, 5, 0, 4, 2, 1])"
      ]
     },
     "execution_count": 28,
     "metadata": {},
     "output_type": "execute_result"
    }
   ],
   "source": [
    "np.lexsort(arr.T, axis=0)"
   ]
  },
  {
   "cell_type": "code",
   "execution_count": 31,
   "metadata": {},
   "outputs": [
    {
     "ename": "ValueError",
     "evalue": "all the input arrays must have same number of dimensions, but the array at index 0 has 2 dimension(s) and the array at index 2 has 1 dimension(s)",
     "output_type": "error",
     "traceback": [
      "\u001b[0;31m---------------------------------------------------------------------------\u001b[0m",
      "\u001b[0;31mValueError\u001b[0m                                Traceback (most recent call last)",
      "Cell \u001b[0;32mIn[31], line 1\u001b[0m\n\u001b[0;32m----> 1\u001b[0m \u001b[43mnp\u001b[49m\u001b[38;5;241;43m.\u001b[39;49m\u001b[43mconcatenate\u001b[49m\u001b[43m(\u001b[49m\u001b[43m[\u001b[49m\u001b[43marr\u001b[49m\u001b[43m,\u001b[49m\u001b[43m \u001b[49m\u001b[43marr\u001b[49m\u001b[43m,\u001b[49m\u001b[43m \u001b[49m\u001b[43marr\u001b[49m\u001b[43m[\u001b[49m\u001b[43m:\u001b[49m\u001b[43m,\u001b[49m\u001b[43m \u001b[49m\u001b[38;5;241;43m0\u001b[39;49m\u001b[43m]\u001b[49m\u001b[43m]\u001b[49m\u001b[43m,\u001b[49m\u001b[43m \u001b[49m\u001b[43maxis\u001b[49m\u001b[38;5;241;43m=\u001b[39;49m\u001b[38;5;241;43m1\u001b[39;49m\u001b[43m)\u001b[49m\n",
      "\u001b[0;31mValueError\u001b[0m: all the input arrays must have same number of dimensions, but the array at index 0 has 2 dimension(s) and the array at index 2 has 1 dimension(s)"
     ]
    }
   ],
   "source": [
    "np.concatenate([arr, arr, arr[:, 0]], axis=1)"
   ]
  },
  {
   "cell_type": "markdown",
   "metadata": {},
   "source": [
    "## Event modification"
   ]
  },
  {
   "cell_type": "code",
   "execution_count": 6,
   "metadata": {},
   "outputs": [
    {
     "data": {
      "text/plain": [
       "0, group(      Main St) [1003.900, 1005.200]\n",
       "1, group(      Main St) [1005.300, 1006.500)\n",
       "2, group(      Main St) [1006.400, 1007.700]\n",
       "3, group(      Main St) [1007.800, 1008.800)\n",
       "4, group(      Main St) [1008.700, 1009.900]\n",
       ".....45 records.....\n",
       "95, group(      4th Ave) [1003.900, 1005.200]\n",
       "96, group(      4th Ave) [1005.300, 1006.400)\n",
       "97, group(      4th Ave) [1006.300, 1007.500]\n",
       "98, group(      4th Ave) [1007.600, 1008.700)\n",
       "99, group(      4th Ave) [1008.600, 1009.800]\n",
       "Rangel(55 grouped, monotonic linear events, closed=left_mod)"
      ]
     },
     "execution_count": 6,
     "metadata": {},
     "output_type": "execute_result"
    }
   ],
   "source": [
    "rng_linear_2.shift(1000)"
   ]
  },
  {
   "cell_type": "code",
   "execution_count": 7,
   "metadata": {},
   "outputs": [
    {
     "data": {
      "text/plain": [
       "0, group(      Main St) [ -96.100, 1005.200)\n",
       "1, group(      Main St) [ -94.700, 1006.500)\n",
       "2, group(      Main St) [ -93.600, 1007.700)\n",
       "3, group(      Main St) [ -92.200, 1008.800)\n",
       "4, group(      Main St) [ -91.300, 1009.900)\n",
       ".....45 records.....\n",
       "95, group(      4th Ave) [ -96.100, 1005.200)\n",
       "96, group(      4th Ave) [ -94.700, 1006.400)\n",
       "97, group(      4th Ave) [ -93.700, 1007.500)\n",
       "98, group(      4th Ave) [ -92.400, 1008.700)\n",
       "99, group(      4th Ave) [ -91.400, 1009.800]\n",
       "Rangel(55 grouped, monotonic linear events, closed=left_mod)"
      ]
     },
     "execution_count": 7,
     "metadata": {},
     "output_type": "execute_result"
    }
   ],
   "source": [
    "rng_linear_2.extend(100, 1000)"
   ]
  },
  {
   "cell_type": "markdown",
   "metadata": {},
   "source": [
    "## Event relation"
   ]
  },
  {
   "cell_type": "code",
   "execution_count": 29,
   "metadata": {},
   "outputs": [
    {
     "data": {
      "text/plain": [
       "(<Compressed Sparse Column sparse array of dtype 'bool'\n",
       " \twith 5 stored elements and shape (9, 5)>,\n",
       " array([[ True, False, False, False, False],\n",
       "        [False,  True, False, False, False],\n",
       "        [False, False,  True, False, False],\n",
       "        [False, False, False,  True, False],\n",
       "        [False, False, False, False,  True],\n",
       "        [False, False, False, False, False],\n",
       "        [False, False, False, False, False],\n",
       "        [False, False, False, False, False],\n",
       "        [False, False, False, False, False]]),\n",
       " array([1, 1, 1, 1, 1, 0, 0, 0, 0]))"
      ]
     },
     "execution_count": 29,
     "metadata": {},
     "output_type": "execute_result"
    }
   ],
   "source": [
    "sparse = rng_linear_1[:10].intersecting(rng_point_1[:5])\n",
    "dense = sparse.todense()\n",
    "sparse, dense, sparse.sum(axis=1)"
   ]
  },
  {
   "cell_type": "code",
   "execution_count": 31,
   "metadata": {},
   "outputs": [
    {
     "data": {
      "text/plain": [
       "(<Compressed Sparse Row sparse array of dtype 'bool'\n",
       " \twith 10 stored elements and shape (9, 5)>,\n",
       " array([[False, False, False, False, False],\n",
       "        [False, False, False, False, False],\n",
       "        [False, False, False, False, False],\n",
       "        [ True, False, False, False, False],\n",
       "        [ True,  True, False, False, False],\n",
       "        [False,  True,  True, False, False],\n",
       "        [False, False,  True,  True, False],\n",
       "        [False, False, False,  True,  True],\n",
       "        [False, False, False, False,  True]]),\n",
       " array([0, 0, 0, 1, 2, 2, 2, 2, 1]))"
      ]
     },
     "execution_count": 31,
     "metadata": {},
     "output_type": "execute_result"
    }
   ],
   "source": [
    "sparse = rng_linear_1[:10].intersecting(rng_linear_2[:5])\n",
    "dense = sparse.todense()\n",
    "sparse, dense, sparse.sum(axis=1)"
   ]
  },
  {
   "cell_type": "code",
   "execution_count": 30,
   "metadata": {},
   "outputs": [
    {
     "data": {
      "text/plain": [
       "(<Compressed Sparse Row sparse array of dtype 'float64'\n",
       " \twith 10 stored elements and shape (9, 5)>,\n",
       " array([[0.  , 0.  , 0.  , 0.  , 0.  ],\n",
       "        [0.  , 0.  , 0.  , 0.  , 0.  ],\n",
       "        [0.  , 0.  , 0.  , 0.  , 0.  ],\n",
       "        [0.69, 0.  , 0.  , 0.  , 0.  ],\n",
       "        [0.31, 0.5 , 0.  , 0.  , 0.  ],\n",
       "        [0.  , 0.33, 0.54, 0.  , 0.  ],\n",
       "        [0.  , 0.  , 0.46, 0.5 , 0.  ],\n",
       "        [0.  , 0.  , 0.  , 0.3 , 0.58],\n",
       "        [0.  , 0.  , 0.  , 0.  , 0.42]]),\n",
       " array([0.  , 0.  , 0.  , 0.69, 0.81, 0.87, 0.96, 0.88, 0.42]))"
      ]
     },
     "execution_count": 30,
     "metadata": {},
     "output_type": "execute_result"
    }
   ],
   "source": [
    "sparse = rng_linear_1[:10].overlay(rng_linear_2[:5], normalize=True, norm_by='right')\n",
    "dense = sparse.todense()\n",
    "sparse, dense.round(2), sparse.sum(axis=1).round(2)"
   ]
  }
 ],
 "metadata": {
  "kernelspec": {
   "display_name": "venv",
   "language": "python",
   "name": "python3"
  },
  "language_info": {
   "codemirror_mode": {
    "name": "ipython",
    "version": 3
   },
   "file_extension": ".py",
   "mimetype": "text/x-python",
   "name": "python",
   "nbconvert_exporter": "python",
   "pygments_lexer": "ipython3",
   "version": "3.12.3"
  }
 },
 "nbformat": 4,
 "nbformat_minor": 2
}
