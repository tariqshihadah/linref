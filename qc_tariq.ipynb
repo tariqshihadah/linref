{
 "cells": [
  {
   "cell_type": "markdown",
   "metadata": {},
   "source": [
    "To-do:\n",
    "- Create generic point and linear sample data sets for testing\n",
    "- Review existing features for expected behavior, standard terminology, ease of use\n",
    "- Unit testing of basic functionality of `events` module\n",
    "  - Initialization, validation, dtype\n",
    "  - Modification and analysis features\n",
    "- Review, refine documentation of `events` module\n"
   ]
  },
  {
   "cell_type": "markdown",
   "metadata": {},
   "source": [
    "# Dependencies"
   ]
  },
  {
   "cell_type": "code",
   "execution_count": 1,
   "metadata": {},
   "outputs": [],
   "source": [
    "from linref.events import EventsData\n",
    "import numpy as np\n",
    "import pandas as pd\n",
    "import scipy.sparse as sparse\n",
    "import geopandas as gpd\n",
    "import os"
   ]
  },
  {
   "cell_type": "markdown",
   "metadata": {},
   "source": [
    "# Sample Data"
   ]
  },
  {
   "cell_type": "code",
   "execution_count": 2,
   "metadata": {},
   "outputs": [],
   "source": [
    "df_linear_1 = pd.read_csv(os.path.join('testing', 'data', 'linear-events-1.csv'), index_col='id')\n",
    "df_linear_2 = pd.read_csv(os.path.join('testing', 'data', 'linear-events-2.csv'), index_col='id')\n",
    "df_point_1 = pd.read_csv(os.path.join('testing', 'data', 'point-events-1.csv'), index_col='crash_id')"
   ]
  },
  {
   "cell_type": "code",
   "execution_count": 3,
   "metadata": {},
   "outputs": [],
   "source": [
    "ed_linear_1 = EventsData(\n",
    "    index=df_linear_1.index,\n",
    "    groups=df_linear_1[['county', 'road_name']].to_records(index=False),\n",
    "    begs=df_linear_1['begin_mp'],\n",
    "    ends=df_linear_1['end_mp'],\n",
    "    closed='left_mod'\n",
    ")\n",
    "ed_linear_2 = EventsData(\n",
    "    index=df_linear_2.index,\n",
    "    groups=df_linear_2[['county', 'road_name']].to_records(index=False),\n",
    "    begs=df_linear_2['begin_mp'],\n",
    "    ends=df_linear_2['end_mp'],\n",
    "    closed='left_mod'\n",
    ")\n",
    "ed_point_1 = EventsData(\n",
    "    index=df_point_1.index,\n",
    "    groups=df_point_1[['county', 'road_name']].to_records(index=False),\n",
    "    locs=df_point_1['mp']\n",
    ")"
   ]
  },
  {
   "cell_type": "code",
   "execution_count": 7,
   "metadata": {},
   "outputs": [
    {
     "data": {
      "text/html": [
       "<div>\n",
       "<style scoped>\n",
       "    .dataframe tbody tr th:only-of-type {\n",
       "        vertical-align: middle;\n",
       "    }\n",
       "\n",
       "    .dataframe tbody tr th {\n",
       "        vertical-align: top;\n",
       "    }\n",
       "\n",
       "    .dataframe thead th {\n",
       "        text-align: right;\n",
       "    }\n",
       "</style>\n",
       "<table border=\"1\" class=\"dataframe\">\n",
       "  <thead>\n",
       "    <tr style=\"text-align: right;\">\n",
       "      <th></th>\n",
       "    </tr>\n",
       "  </thead>\n",
       "  <tbody>\n",
       "    <tr>\n",
       "      <th>1</th>\n",
       "    </tr>\n",
       "    <tr>\n",
       "      <th>2</th>\n",
       "    </tr>\n",
       "    <tr>\n",
       "      <th>3</th>\n",
       "    </tr>\n",
       "  </tbody>\n",
       "</table>\n",
       "</div>"
      ],
      "text/plain": [
       "Empty DataFrame\n",
       "Columns: []\n",
       "Index: [1, 2, 3]"
      ]
     },
     "execution_count": 8,
     "metadata": {},
     "output_type": "execute_result"
    }
   ],
   "source": [
    "pd.DataFrame(index=[1,2,3], data=None)"
   ]
  },
  {
   "cell_type": "code",
   "execution_count": 6,
   "metadata": {},
   "outputs": [
    {
     "ename": "TypeError",
     "evalue": "cannot concatenate object of type '<class 'numpy.ndarray'>'; only Series and DataFrame objs are valid",
     "output_type": "error",
     "traceback": [
      "\u001b[0;31m---------------------------------------------------------------------------\u001b[0m",
      "\u001b[0;31mTypeError\u001b[0m                                 Traceback (most recent call last)",
      "Cell \u001b[0;32mIn[6], line 1\u001b[0m\n\u001b[0;32m----> 1\u001b[0m \u001b[43mpd\u001b[49m\u001b[38;5;241;43m.\u001b[39;49m\u001b[43mconcat\u001b[49m\u001b[43m(\u001b[49m\u001b[43m[\u001b[49m\u001b[43mrng_linear_1\u001b[49m\u001b[38;5;241;43m.\u001b[39;49m\u001b[43mindex\u001b[49m\u001b[43m,\u001b[49m\u001b[43m \u001b[49m\u001b[43mrng_linear_1\u001b[49m\u001b[38;5;241;43m.\u001b[39;49m\u001b[43mgroups\u001b[49m\u001b[43m]\u001b[49m\u001b[43m)\u001b[49m\n",
      "File \u001b[0;32m~/code/linref/venv/lib/python3.12/site-packages/pandas/core/reshape/concat.py:382\u001b[0m, in \u001b[0;36mconcat\u001b[0;34m(objs, axis, join, ignore_index, keys, levels, names, verify_integrity, sort, copy)\u001b[0m\n\u001b[1;32m    379\u001b[0m \u001b[38;5;28;01melif\u001b[39;00m copy \u001b[38;5;129;01mand\u001b[39;00m using_copy_on_write():\n\u001b[1;32m    380\u001b[0m     copy \u001b[38;5;241m=\u001b[39m \u001b[38;5;28;01mFalse\u001b[39;00m\n\u001b[0;32m--> 382\u001b[0m op \u001b[38;5;241m=\u001b[39m \u001b[43m_Concatenator\u001b[49m\u001b[43m(\u001b[49m\n\u001b[1;32m    383\u001b[0m \u001b[43m    \u001b[49m\u001b[43mobjs\u001b[49m\u001b[43m,\u001b[49m\n\u001b[1;32m    384\u001b[0m \u001b[43m    \u001b[49m\u001b[43maxis\u001b[49m\u001b[38;5;241;43m=\u001b[39;49m\u001b[43maxis\u001b[49m\u001b[43m,\u001b[49m\n\u001b[1;32m    385\u001b[0m \u001b[43m    \u001b[49m\u001b[43mignore_index\u001b[49m\u001b[38;5;241;43m=\u001b[39;49m\u001b[43mignore_index\u001b[49m\u001b[43m,\u001b[49m\n\u001b[1;32m    386\u001b[0m \u001b[43m    \u001b[49m\u001b[43mjoin\u001b[49m\u001b[38;5;241;43m=\u001b[39;49m\u001b[43mjoin\u001b[49m\u001b[43m,\u001b[49m\n\u001b[1;32m    387\u001b[0m \u001b[43m    \u001b[49m\u001b[43mkeys\u001b[49m\u001b[38;5;241;43m=\u001b[39;49m\u001b[43mkeys\u001b[49m\u001b[43m,\u001b[49m\n\u001b[1;32m    388\u001b[0m \u001b[43m    \u001b[49m\u001b[43mlevels\u001b[49m\u001b[38;5;241;43m=\u001b[39;49m\u001b[43mlevels\u001b[49m\u001b[43m,\u001b[49m\n\u001b[1;32m    389\u001b[0m \u001b[43m    \u001b[49m\u001b[43mnames\u001b[49m\u001b[38;5;241;43m=\u001b[39;49m\u001b[43mnames\u001b[49m\u001b[43m,\u001b[49m\n\u001b[1;32m    390\u001b[0m \u001b[43m    \u001b[49m\u001b[43mverify_integrity\u001b[49m\u001b[38;5;241;43m=\u001b[39;49m\u001b[43mverify_integrity\u001b[49m\u001b[43m,\u001b[49m\n\u001b[1;32m    391\u001b[0m \u001b[43m    \u001b[49m\u001b[43mcopy\u001b[49m\u001b[38;5;241;43m=\u001b[39;49m\u001b[43mcopy\u001b[49m\u001b[43m,\u001b[49m\n\u001b[1;32m    392\u001b[0m \u001b[43m    \u001b[49m\u001b[43msort\u001b[49m\u001b[38;5;241;43m=\u001b[39;49m\u001b[43msort\u001b[49m\u001b[43m,\u001b[49m\n\u001b[1;32m    393\u001b[0m \u001b[43m\u001b[49m\u001b[43m)\u001b[49m\n\u001b[1;32m    395\u001b[0m \u001b[38;5;28;01mreturn\u001b[39;00m op\u001b[38;5;241m.\u001b[39mget_result()\n",
      "File \u001b[0;32m~/code/linref/venv/lib/python3.12/site-packages/pandas/core/reshape/concat.py:448\u001b[0m, in \u001b[0;36m_Concatenator.__init__\u001b[0;34m(self, objs, axis, join, keys, levels, names, ignore_index, verify_integrity, copy, sort)\u001b[0m\n\u001b[1;32m    445\u001b[0m objs, keys \u001b[38;5;241m=\u001b[39m \u001b[38;5;28mself\u001b[39m\u001b[38;5;241m.\u001b[39m_clean_keys_and_objs(objs, keys)\n\u001b[1;32m    447\u001b[0m \u001b[38;5;66;03m# figure out what our result ndim is going to be\u001b[39;00m\n\u001b[0;32m--> 448\u001b[0m ndims \u001b[38;5;241m=\u001b[39m \u001b[38;5;28;43mself\u001b[39;49m\u001b[38;5;241;43m.\u001b[39;49m\u001b[43m_get_ndims\u001b[49m\u001b[43m(\u001b[49m\u001b[43mobjs\u001b[49m\u001b[43m)\u001b[49m\n\u001b[1;32m    449\u001b[0m sample, objs \u001b[38;5;241m=\u001b[39m \u001b[38;5;28mself\u001b[39m\u001b[38;5;241m.\u001b[39m_get_sample_object(objs, ndims, keys, names, levels)\n\u001b[1;32m    451\u001b[0m \u001b[38;5;66;03m# Standardize axis parameter to int\u001b[39;00m\n",
      "File \u001b[0;32m~/code/linref/venv/lib/python3.12/site-packages/pandas/core/reshape/concat.py:489\u001b[0m, in \u001b[0;36m_Concatenator._get_ndims\u001b[0;34m(self, objs)\u001b[0m\n\u001b[1;32m    484\u001b[0m     \u001b[38;5;28;01mif\u001b[39;00m \u001b[38;5;129;01mnot\u001b[39;00m \u001b[38;5;28misinstance\u001b[39m(obj, (ABCSeries, ABCDataFrame)):\n\u001b[1;32m    485\u001b[0m         msg \u001b[38;5;241m=\u001b[39m (\n\u001b[1;32m    486\u001b[0m             \u001b[38;5;124mf\u001b[39m\u001b[38;5;124m\"\u001b[39m\u001b[38;5;124mcannot concatenate object of type \u001b[39m\u001b[38;5;124m'\u001b[39m\u001b[38;5;132;01m{\u001b[39;00m\u001b[38;5;28mtype\u001b[39m(obj)\u001b[38;5;132;01m}\u001b[39;00m\u001b[38;5;124m'\u001b[39m\u001b[38;5;124m; \u001b[39m\u001b[38;5;124m\"\u001b[39m\n\u001b[1;32m    487\u001b[0m             \u001b[38;5;124m\"\u001b[39m\u001b[38;5;124monly Series and DataFrame objs are valid\u001b[39m\u001b[38;5;124m\"\u001b[39m\n\u001b[1;32m    488\u001b[0m         )\n\u001b[0;32m--> 489\u001b[0m         \u001b[38;5;28;01mraise\u001b[39;00m \u001b[38;5;167;01mTypeError\u001b[39;00m(msg)\n\u001b[1;32m    491\u001b[0m     ndims\u001b[38;5;241m.\u001b[39madd(obj\u001b[38;5;241m.\u001b[39mndim)\n\u001b[1;32m    492\u001b[0m \u001b[38;5;28;01mreturn\u001b[39;00m ndims\n",
      "\u001b[0;31mTypeError\u001b[0m: cannot concatenate object of type '<class 'numpy.ndarray'>'; only Series and DataFrame objs are valid"
     ]
    }
   ],
   "source": [
    "pd.concat([ed_linear_1.index, ed_linear_1.groups], axis=)"
   ]
  },
  {
   "cell_type": "code",
   "execution_count": 4,
   "metadata": {},
   "outputs": [
    {
     "data": {
      "text/plain": [
       "16"
      ]
     },
     "execution_count": 4,
     "metadata": {},
     "output_type": "execute_result"
    }
   ],
   "source": [
    "df_linear_2[['county', 'road_name']].to_records(index=False).itemsize"
   ]
  },
  {
   "cell_type": "code",
   "execution_count": 5,
   "metadata": {},
   "outputs": [
    {
     "data": {
      "text/plain": [
       "0"
      ]
     },
     "execution_count": 5,
     "metadata": {},
     "output_type": "execute_result"
    }
   ],
   "source": [
    "np.array(('Cook', 'LA'), dtype=ed_linear_1.groups.dtype).ndim"
   ]
  },
  {
   "cell_type": "markdown",
   "metadata": {},
   "source": [
    "# Example Features"
   ]
  },
  {
   "cell_type": "code",
   "execution_count": 6,
   "metadata": {},
   "outputs": [
    {
     "data": {
      "text/plain": [
       "0, group(('Los Angeles', '...) [0.000, 1.200]\n",
       "1, group(('Los Angeles', '...) [1.400, 2.500)\n",
       "2, group(('Los Angeles', '...) [2.500, 3.700]\n",
       "3, group(('Los Angeles', '...) [3.900, 4.800)\n",
       "4, group(('Los Angeles', '...) [4.800, 5.900]\n",
       "...90 records...\n",
       "95, group(('King', '4th Ave') ) [0.000, 1.200]\n",
       "96, group(('King', '4th Ave') ) [1.400, 2.400)\n",
       "97, group(('King', '4th Ave') ) [2.400, 3.500]\n",
       "98, group(('King', '4th Ave') ) [3.700, 4.700)\n",
       "99, group(('King', '4th Ave') ) [4.700, 5.800]\n",
       "Rangel(100 grouped, monotonic linear events, closed=left_mod)"
      ]
     },
     "execution_count": 6,
     "metadata": {},
     "output_type": "execute_result"
    }
   ],
   "source": [
    "ed_linear_1"
   ]
  },
  {
   "cell_type": "markdown",
   "metadata": {},
   "source": [
    "## Selection"
   ]
  },
  {
   "cell_type": "code",
   "execution_count": 7,
   "metadata": {},
   "outputs": [
    {
     "data": {
      "text/plain": [
       "0, group(('Los Angeles', '...) [0.000, 1.200]\n",
       "1, group(('Los Angeles', '...) [1.400, 2.500)\n",
       "2, group(('Los Angeles', '...) [2.500, 3.700]\n",
       "3, group(('Los Angeles', '...) [3.900, 4.800)\n",
       "4, group(('Los Angeles', '...) [4.800, 5.900]\n",
       "Rangel(5 grouped, monotonic linear events, closed=left_mod)"
      ]
     },
     "execution_count": 7,
     "metadata": {},
     "output_type": "execute_result"
    }
   ],
   "source": [
    "ed_linear_1[:5]"
   ]
  },
  {
   "cell_type": "code",
   "execution_count": 8,
   "metadata": {},
   "outputs": [
    {
     "data": {
      "text/plain": [
       "0, group(('Los Angeles', '...) [0.000, 1.200]\n",
       "1, group(('Los Angeles', '...) [1.400, 2.500)\n",
       "2, group(('Los Angeles', '...) [2.500, 3.700]\n",
       "3, group(('Los Angeles', '...) [3.900, 4.800)\n",
       "4, group(('Los Angeles', '...) [4.800, 5.900]\n",
       "...4 records...\n",
       "95, group(('King', '4th Ave') ) [0.000, 1.200]\n",
       "96, group(('King', '4th Ave') ) [1.400, 2.400)\n",
       "97, group(('King', '4th Ave') ) [2.400, 3.500]\n",
       "98, group(('King', '4th Ave') ) [3.700, 4.700)\n",
       "99, group(('King', '4th Ave') ) [4.700, 5.800]\n",
       "Rangel(14 grouped, monotonic linear events, closed=left_mod)"
      ]
     },
     "execution_count": 8,
     "metadata": {},
     "output_type": "execute_result"
    }
   ],
   "source": [
    "ed_linear_1.select_group([('King', '4th Ave'), ('Los Angeles', 'Main St')])"
   ]
  },
  {
   "cell_type": "code",
   "execution_count": 9,
   "metadata": {},
   "outputs": [
    {
     "data": {
      "text/plain": [
       "5, group(('Los Angeles', '...) [10.000, 11.100)\n",
       "6, group(('Los Angeles', '...) [11.000, 12.300]\n",
       "7, group(('Los Angeles', '...) [12.400, 13.400)\n",
       "8, group(('Los Angeles', '...) [13.300, 14.000]\n",
       "15, group(('Los Angeles', '...) [11.000, 12.000)\n",
       "...5 records....\n",
       "33, group(('Maricopa', 'Cen...) [12.100, 13.200)\n",
       "34, group(('Maricopa', 'Cen...) [13.100, 14.300]\n",
       "66, group(('Dallas', 'Elm St')) [10.800, 12.000]\n",
       "73, group(('King', '1st Ave') ) [10.900, 12.100]\n",
       "74, group(('King', '1st Ave') ) [12.200, 13.300]\n",
       "Rangel(15 grouped, monotonic linear events, closed=left_mod)"
      ]
     },
     "execution_count": 9,
     "metadata": {},
     "output_type": "execute_result"
    }
   ],
   "source": [
    "ed_linear_2[ed_linear_2.begs >= 10]"
   ]
  },
  {
   "cell_type": "markdown",
   "metadata": {},
   "source": [
    "## Sorting"
   ]
  },
  {
   "cell_type": "code",
   "execution_count": 10,
   "metadata": {},
   "outputs": [
    {
     "data": {
      "text/plain": [
       "75, group(('Clark', '2nd St') ) [0.000, 1.100]\n",
       "76, group(('Clark', '2nd St') ) [1.300, 2.300)\n",
       "77, group(('Clark', '2nd St') ) [2.300, 3.400]\n",
       "78, group(('Clark', '2nd St') ) [3.600, 4.600)\n",
       "79, group(('Clark', '2nd St') ) [4.600, 5.700]\n",
       "...90 records...\n",
       "38, group(('San Diego', 'Ba...) [3.500, 4.600]\n",
       "39, group(('San Diego', 'Ba...) [4.800, 5.800)\n",
       "40, group(('San Diego', 'Ba...) [5.800, 7.000]\n",
       "41, group(('San Diego', 'Ba...) [7.200, 8.100)\n",
       "42, group(('San Diego', 'Ba...) [8.100, 9.300]\n",
       "Rangel(100 grouped, monotonic linear events, closed=left_mod)"
      ]
     },
     "execution_count": 10,
     "metadata": {},
     "output_type": "execute_result"
    }
   ],
   "source": [
    "ed_linear_1.sort(by=['groups', 'begs'])"
   ]
  },
  {
   "cell_type": "markdown",
   "metadata": {},
   "source": [
    "## Event modification"
   ]
  },
  {
   "cell_type": "code",
   "execution_count": 12,
   "metadata": {},
   "outputs": [
    {
     "data": {
      "text/plain": [
       "0, group(('Los Angeles', '...) [1003.900, 1005.200]\n",
       "1, group(('Los Angeles', '...) [1005.300, 1006.500)\n",
       "2, group(('Los Angeles', '...) [1006.400, 1007.700]\n",
       "3, group(('Los Angeles', '...) [1007.800, 1008.800)\n",
       "4, group(('Los Angeles', '...) [1008.700, 1009.900]\n",
       ".....45 records.....\n",
       "95, group(('King', '4th Ave') ) [1003.900, 1005.200]\n",
       "96, group(('King', '4th Ave') ) [1005.300, 1006.400)\n",
       "97, group(('King', '4th Ave') ) [1006.300, 1007.500]\n",
       "98, group(('King', '4th Ave') ) [1007.600, 1008.700)\n",
       "99, group(('King', '4th Ave') ) [1008.600, 1009.800]\n",
       "Rangel(55 grouped, monotonic linear events, closed=left_mod)"
      ]
     },
     "execution_count": 12,
     "metadata": {},
     "output_type": "execute_result"
    }
   ],
   "source": [
    "ed_linear_2.shift(1000)"
   ]
  },
  {
   "cell_type": "code",
   "execution_count": 13,
   "metadata": {},
   "outputs": [
    {
     "data": {
      "text/plain": [
       "0, group(('Los Angeles', '...) [ -96.100, 1005.200)\n",
       "1, group(('Los Angeles', '...) [ -94.700, 1006.500)\n",
       "2, group(('Los Angeles', '...) [ -93.600, 1007.700)\n",
       "3, group(('Los Angeles', '...) [ -92.200, 1008.800)\n",
       "4, group(('Los Angeles', '...) [ -91.300, 1009.900)\n",
       ".....45 records.....\n",
       "95, group(('King', '4th Ave') ) [ -96.100, 1005.200)\n",
       "96, group(('King', '4th Ave') ) [ -94.700, 1006.400)\n",
       "97, group(('King', '4th Ave') ) [ -93.700, 1007.500)\n",
       "98, group(('King', '4th Ave') ) [ -92.400, 1008.700)\n",
       "99, group(('King', '4th Ave') ) [ -91.400, 1009.800]\n",
       "Rangel(55 grouped, monotonic linear events, closed=left_mod)"
      ]
     },
     "execution_count": 13,
     "metadata": {},
     "output_type": "execute_result"
    }
   ],
   "source": [
    "ed_linear_2.extend(100, 1000)"
   ]
  },
  {
   "cell_type": "markdown",
   "metadata": {},
   "source": [
    "## Event relation"
   ]
  },
  {
   "cell_type": "code",
   "execution_count": 14,
   "metadata": {},
   "outputs": [
    {
     "data": {
      "text/plain": [
       "(<Compressed Sparse Column sparse array of dtype 'bool'\n",
       " \twith 5 stored elements and shape (9, 5)>,\n",
       " array([[ True, False, False, False, False],\n",
       "        [False,  True, False, False, False],\n",
       "        [False, False,  True, False, False],\n",
       "        [False, False, False,  True, False],\n",
       "        [False, False, False, False,  True],\n",
       "        [False, False, False, False, False],\n",
       "        [False, False, False, False, False],\n",
       "        [False, False, False, False, False],\n",
       "        [False, False, False, False, False]]),\n",
       " array([1, 1, 1, 1, 1, 0, 0, 0, 0]))"
      ]
     },
     "execution_count": 14,
     "metadata": {},
     "output_type": "execute_result"
    }
   ],
   "source": [
    "sparse = ed_linear_1[:10].intersect(ed_point_1[:5])\n",
    "dense = sparse.todense()\n",
    "sparse, dense, sparse.sum(axis=1)"
   ]
  },
  {
   "cell_type": "code",
   "execution_count": 15,
   "metadata": {},
   "outputs": [
    {
     "data": {
      "text/plain": [
       "(<Compressed Sparse Row sparse array of dtype 'bool'\n",
       " \twith 10 stored elements and shape (9, 5)>,\n",
       " array([[False, False, False, False, False],\n",
       "        [False, False, False, False, False],\n",
       "        [False, False, False, False, False],\n",
       "        [ True, False, False, False, False],\n",
       "        [ True,  True, False, False, False],\n",
       "        [False,  True,  True, False, False],\n",
       "        [False, False,  True,  True, False],\n",
       "        [False, False, False,  True,  True],\n",
       "        [False, False, False, False,  True]]),\n",
       " array([0, 0, 0, 1, 2, 2, 2, 2, 1]))"
      ]
     },
     "execution_count": 15,
     "metadata": {},
     "output_type": "execute_result"
    }
   ],
   "source": [
    "sparse = ed_linear_1[:10].intersect(ed_linear_2[:5])\n",
    "dense = sparse.todense()\n",
    "sparse, dense, sparse.sum(axis=1)"
   ]
  },
  {
   "cell_type": "code",
   "execution_count": 16,
   "metadata": {},
   "outputs": [
    {
     "data": {
      "text/plain": [
       "(<Compressed Sparse Row sparse array of dtype 'float64'\n",
       " \twith 10 stored elements and shape (9, 5)>,\n",
       " array([[0.  , 0.  , 0.  , 0.  , 0.  ],\n",
       "        [0.  , 0.  , 0.  , 0.  , 0.  ],\n",
       "        [0.  , 0.  , 0.  , 0.  , 0.  ],\n",
       "        [0.69, 0.  , 0.  , 0.  , 0.  ],\n",
       "        [0.31, 0.5 , 0.  , 0.  , 0.  ],\n",
       "        [0.  , 0.33, 0.54, 0.  , 0.  ],\n",
       "        [0.  , 0.  , 0.46, 0.5 , 0.  ],\n",
       "        [0.  , 0.  , 0.  , 0.3 , 0.58],\n",
       "        [0.  , 0.  , 0.  , 0.  , 0.42]]),\n",
       " array([0.  , 0.  , 0.  , 0.69, 0.81, 0.87, 0.96, 0.88, 0.42]))"
      ]
     },
     "execution_count": 16,
     "metadata": {},
     "output_type": "execute_result"
    }
   ],
   "source": [
    "sparse = ed_linear_1[:10].overlay(ed_linear_2[:5], normalize=True, norm_by='right')\n",
    "dense = sparse.todense()\n",
    "sparse, dense.round(2), sparse.sum(axis=1).round(2)"
   ]
  }
 ],
 "metadata": {
  "kernelspec": {
   "display_name": "venv",
   "language": "python",
   "name": "python3"
  },
  "language_info": {
   "codemirror_mode": {
    "name": "ipython",
    "version": 3
   },
   "file_extension": ".py",
   "mimetype": "text/x-python",
   "name": "python",
   "nbconvert_exporter": "python",
   "pygments_lexer": "ipython3",
   "version": "3.12.3"
  }
 },
 "nbformat": 4,
 "nbformat_minor": 2
}
