{
 "cells": [
  {
   "cell_type": "markdown",
   "metadata": {},
   "source": [
    "To-do:\n",
    "- Create generic point and linear sample data sets for testing\n",
    "- Review existing features for expected behavior, standard terminology, ease of use\n",
    "- Unit testing of basic functionality of `events` module\n",
    "  - Initialization, validation, dtype\n",
    "  - Modification and analysis features\n",
    "- Review, refine documentation of `events` module\n"
   ]
  },
  {
   "cell_type": "markdown",
   "metadata": {},
   "source": [
    "# Dependencies"
   ]
  },
  {
   "cell_type": "code",
   "execution_count": 1,
   "metadata": {},
   "outputs": [],
   "source": [
    "from linref.events import Rangel\n",
    "import numpy as np\n",
    "import pandas as pd\n",
    "import scipy.sparse as sparse\n",
    "import geopandas as gpd\n",
    "import os"
   ]
  },
  {
   "cell_type": "markdown",
   "metadata": {},
   "source": [
    "# Sample Data"
   ]
  },
  {
   "cell_type": "code",
   "execution_count": 2,
   "metadata": {},
   "outputs": [],
   "source": [
    "df_linear_1 = pd.read_csv(os.path.join('testing', 'data', 'linear-events-1.csv'), index_col='id')\n",
    "df_linear_2 = pd.read_csv(os.path.join('testing', 'data', 'linear-events-2.csv'), index_col='id')\n",
    "df_point_1 = pd.read_csv(os.path.join('testing', 'data', 'point-events-1.csv'), index_col='crash_id')"
   ]
  },
  {
   "cell_type": "code",
   "execution_count": 3,
   "metadata": {},
   "outputs": [],
   "source": [
    "rng_linear_1 = Rangel(\n",
    "    index=df_linear_1.index,\n",
    "    groups=df_linear_1['road_name'],\n",
    "    begs=df_linear_1['begin_mp'],\n",
    "    ends=df_linear_1['end_mp'],\n",
    "    closed='left_mod'\n",
    ")\n",
    "rng_linear_2 = Rangel(\n",
    "    index=df_linear_2.index,\n",
    "    groups=df_linear_2['road_name'],\n",
    "    begs=df_linear_2['begin_mp'],\n",
    "    ends=df_linear_2['end_mp'],\n",
    "    closed='left_mod'\n",
    ")\n",
    "rng_point_1 = Rangel(\n",
    "    index=df_point_1.index,\n",
    "    groups=df_point_1['road_name'],\n",
    "    locs=df_point_1['mp']\n",
    ")"
   ]
  },
  {
   "cell_type": "markdown",
   "metadata": {},
   "source": [
    "# Example Features"
   ]
  },
  {
   "cell_type": "code",
   "execution_count": 4,
   "metadata": {},
   "outputs": [
    {
     "data": {
      "text/plain": [
       "0, group(      Main St) [0.000, 1.200]\n",
       "1, group(      Main St) [1.400, 2.500)\n",
       "2, group(      Main St) [2.500, 3.700]\n",
       "3, group(      Main St) [3.900, 4.800)\n",
       "4, group(      Main St) [4.800, 5.900]\n",
       "...90 records...\n",
       "95, group(      4th Ave) [0.000, 1.200]\n",
       "96, group(      4th Ave) [1.400, 2.400)\n",
       "97, group(      4th Ave) [2.400, 3.500]\n",
       "98, group(      4th Ave) [3.700, 4.700)\n",
       "99, group(      4th Ave) [4.700, 5.800]\n",
       "Rangel(100 grouped, monotonic linear events, closed=left_mod)"
      ]
     },
     "execution_count": 4,
     "metadata": {},
     "output_type": "execute_result"
    }
   ],
   "source": [
    "rng_linear_1"
   ]
  },
  {
   "cell_type": "markdown",
   "metadata": {},
   "source": [
    "## Selection"
   ]
  },
  {
   "cell_type": "code",
   "execution_count": 15,
   "metadata": {},
   "outputs": [
    {
     "data": {
      "text/plain": [
       "0, group(Main St) [0.000, 1.200]\n",
       "1, group(Main St) [1.400, 2.500)\n",
       "2, group(Main St) [2.500, 3.700]\n",
       "3, group(Main St) [3.900, 4.800)\n",
       "4, group(Main St) [4.800, 5.900]\n",
       "Rangel(5 grouped, monotonic linear events, closed=left_mod)"
      ]
     },
     "execution_count": 15,
     "metadata": {},
     "output_type": "execute_result"
    }
   ],
   "source": [
    "rng_linear_1[:5]"
   ]
  },
  {
   "cell_type": "code",
   "execution_count": 18,
   "metadata": {},
   "outputs": [
    {
     "data": {
      "text/plain": [
       "35, [0.000, 1.200)\n",
       "36, [1.200, 2.300]\n",
       "37, [2.500, 3.500)\n",
       "38, [3.500, 4.600]\n",
       "39, [4.800, 5.800)\n",
       "40, [5.800, 7.000]\n",
       "41, [7.200, 8.100)\n",
       "42, [8.100, 9.300]\n",
       "Rangel(8 ungrouped, monotonic linear events, closed=left_mod)"
      ]
     },
     "execution_count": 18,
     "metadata": {},
     "output_type": "execute_result"
    }
   ],
   "source": [
    "rng_linear_1.select_group('Balboa Ave')"
   ]
  },
  {
   "cell_type": "code",
   "execution_count": 25,
   "metadata": {},
   "outputs": [
    {
     "data": {
      "text/plain": [
       "5, group(      Main St) [10.000, 11.100)\n",
       "6, group(      Main St) [11.000, 12.300]\n",
       "7, group(      Main St) [12.400, 13.400)\n",
       "8, group(      Main St) [13.300, 14.000]\n",
       "15, group(     State St) [11.000, 12.000)\n",
       "...5 records....\n",
       "33, group(  Central Ave) [12.100, 13.200)\n",
       "34, group(  Central Ave) [13.100, 14.300]\n",
       "66, group(       Elm St) [10.800, 12.000]\n",
       "73, group(      1st Ave) [10.900, 12.100]\n",
       "74, group(      1st Ave) [12.200, 13.300]\n",
       "Rangel(15 grouped, monotonic linear events, closed=left_mod)"
      ]
     },
     "execution_count": 25,
     "metadata": {},
     "output_type": "execute_result"
    }
   ],
   "source": [
    "rng_linear_2[rng_linear_2.begs >= 10]"
   ]
  },
  {
   "cell_type": "markdown",
   "metadata": {},
   "source": [
    "## Sorting"
   ]
  },
  {
   "cell_type": "code",
   "execution_count": 5,
   "metadata": {},
   "outputs": [
    {
     "data": {
      "text/plain": [
       "67, group(      1st Ave) [0.000, 1.200]\n",
       "68, group(      1st Ave) [1.400, 2.400)\n",
       "69, group(      1st Ave) [2.400, 3.500]\n",
       "70, group(      1st Ave) [3.700, 4.700)\n",
       "71, group(      1st Ave) [4.700, 5.800]\n",
       "...90 records...\n",
       "21, group(Westheimer Rd) [3.500, 4.700]\n",
       "22, group(Westheimer Rd) [4.900, 5.800)\n",
       "23, group(Westheimer Rd) [5.800, 7.000]\n",
       "24, group(Westheimer Rd) [7.200, 8.100)\n",
       "25, group(Westheimer Rd) [8.100, 9.300]\n",
       "Rangel(100 grouped, monotonic linear events, closed=left_mod)"
      ]
     },
     "execution_count": 5,
     "metadata": {},
     "output_type": "execute_result"
    }
   ],
   "source": [
    "rng_linear_1.sort(by='groups')"
   ]
  },
  {
   "cell_type": "markdown",
   "metadata": {},
   "source": [
    "## Event modification"
   ]
  },
  {
   "cell_type": "code",
   "execution_count": 6,
   "metadata": {},
   "outputs": [
    {
     "data": {
      "text/plain": [
       "0, group(      Main St) [1003.900, 1005.200]\n",
       "1, group(      Main St) [1005.300, 1006.500)\n",
       "2, group(      Main St) [1006.400, 1007.700]\n",
       "3, group(      Main St) [1007.800, 1008.800)\n",
       "4, group(      Main St) [1008.700, 1009.900]\n",
       ".....45 records.....\n",
       "95, group(      4th Ave) [1003.900, 1005.200]\n",
       "96, group(      4th Ave) [1005.300, 1006.400)\n",
       "97, group(      4th Ave) [1006.300, 1007.500]\n",
       "98, group(      4th Ave) [1007.600, 1008.700)\n",
       "99, group(      4th Ave) [1008.600, 1009.800]\n",
       "Rangel(55 grouped, monotonic linear events, closed=left_mod)"
      ]
     },
     "execution_count": 6,
     "metadata": {},
     "output_type": "execute_result"
    }
   ],
   "source": [
    "rng_linear_2.shift(1000)"
   ]
  },
  {
   "cell_type": "code",
   "execution_count": 7,
   "metadata": {},
   "outputs": [
    {
     "data": {
      "text/plain": [
       "0, group(      Main St) [ -96.100, 1005.200)\n",
       "1, group(      Main St) [ -94.700, 1006.500)\n",
       "2, group(      Main St) [ -93.600, 1007.700)\n",
       "3, group(      Main St) [ -92.200, 1008.800)\n",
       "4, group(      Main St) [ -91.300, 1009.900)\n",
       ".....45 records.....\n",
       "95, group(      4th Ave) [ -96.100, 1005.200)\n",
       "96, group(      4th Ave) [ -94.700, 1006.400)\n",
       "97, group(      4th Ave) [ -93.700, 1007.500)\n",
       "98, group(      4th Ave) [ -92.400, 1008.700)\n",
       "99, group(      4th Ave) [ -91.400, 1009.800]\n",
       "Rangel(55 grouped, monotonic linear events, closed=left_mod)"
      ]
     },
     "execution_count": 7,
     "metadata": {},
     "output_type": "execute_result"
    }
   ],
   "source": [
    "rng_linear_2.extend(100, 1000)"
   ]
  },
  {
   "cell_type": "markdown",
   "metadata": {},
   "source": [
    "## Event relation"
   ]
  },
  {
   "cell_type": "code",
   "execution_count": 29,
   "metadata": {},
   "outputs": [
    {
     "data": {
      "text/plain": [
       "(<Compressed Sparse Column sparse array of dtype 'bool'\n",
       " \twith 5 stored elements and shape (9, 5)>,\n",
       " array([[ True, False, False, False, False],\n",
       "        [False,  True, False, False, False],\n",
       "        [False, False,  True, False, False],\n",
       "        [False, False, False,  True, False],\n",
       "        [False, False, False, False,  True],\n",
       "        [False, False, False, False, False],\n",
       "        [False, False, False, False, False],\n",
       "        [False, False, False, False, False],\n",
       "        [False, False, False, False, False]]),\n",
       " array([1, 1, 1, 1, 1, 0, 0, 0, 0]))"
      ]
     },
     "execution_count": 29,
     "metadata": {},
     "output_type": "execute_result"
    }
   ],
   "source": [
    "sparse = rng_linear_1[:10].intersecting(rng_point_1[:5])\n",
    "dense = sparse.todense()\n",
    "sparse, dense, sparse.sum(axis=1)"
   ]
  },
  {
   "cell_type": "code",
   "execution_count": 31,
   "metadata": {},
   "outputs": [
    {
     "data": {
      "text/plain": [
       "(<Compressed Sparse Row sparse array of dtype 'bool'\n",
       " \twith 10 stored elements and shape (9, 5)>,\n",
       " array([[False, False, False, False, False],\n",
       "        [False, False, False, False, False],\n",
       "        [False, False, False, False, False],\n",
       "        [ True, False, False, False, False],\n",
       "        [ True,  True, False, False, False],\n",
       "        [False,  True,  True, False, False],\n",
       "        [False, False,  True,  True, False],\n",
       "        [False, False, False,  True,  True],\n",
       "        [False, False, False, False,  True]]),\n",
       " array([0, 0, 0, 1, 2, 2, 2, 2, 1]))"
      ]
     },
     "execution_count": 31,
     "metadata": {},
     "output_type": "execute_result"
    }
   ],
   "source": [
    "sparse = rng_linear_1[:10].intersecting(rng_linear_2[:5])\n",
    "dense = sparse.todense()\n",
    "sparse, dense, sparse.sum(axis=1)"
   ]
  },
  {
   "cell_type": "code",
   "execution_count": 30,
   "metadata": {},
   "outputs": [
    {
     "data": {
      "text/plain": [
       "(<Compressed Sparse Row sparse array of dtype 'float64'\n",
       " \twith 10 stored elements and shape (9, 5)>,\n",
       " array([[0.  , 0.  , 0.  , 0.  , 0.  ],\n",
       "        [0.  , 0.  , 0.  , 0.  , 0.  ],\n",
       "        [0.  , 0.  , 0.  , 0.  , 0.  ],\n",
       "        [0.69, 0.  , 0.  , 0.  , 0.  ],\n",
       "        [0.31, 0.5 , 0.  , 0.  , 0.  ],\n",
       "        [0.  , 0.33, 0.54, 0.  , 0.  ],\n",
       "        [0.  , 0.  , 0.46, 0.5 , 0.  ],\n",
       "        [0.  , 0.  , 0.  , 0.3 , 0.58],\n",
       "        [0.  , 0.  , 0.  , 0.  , 0.42]]),\n",
       " array([0.  , 0.  , 0.  , 0.69, 0.81, 0.87, 0.96, 0.88, 0.42]))"
      ]
     },
     "execution_count": 30,
     "metadata": {},
     "output_type": "execute_result"
    }
   ],
   "source": [
    "sparse = rng_linear_1[:10].overlay(rng_linear_2[:5], normalize=True, norm_by='right')\n",
    "dense = sparse.todense()\n",
    "sparse, dense.round(2), sparse.sum(axis=1).round(2)"
   ]
  }
 ],
 "metadata": {
  "kernelspec": {
   "display_name": "venv",
   "language": "python",
   "name": "python3"
  },
  "language_info": {
   "codemirror_mode": {
    "name": "ipython",
    "version": 3
   },
   "file_extension": ".py",
   "mimetype": "text/x-python",
   "name": "python",
   "nbconvert_exporter": "python",
   "pygments_lexer": "ipython3",
   "version": "3.12.3"
  }
 },
 "nbformat": 4,
 "nbformat_minor": 2
}
