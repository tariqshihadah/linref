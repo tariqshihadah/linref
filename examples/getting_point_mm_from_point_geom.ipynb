{
 "cells": [
  {
   "cell_type": "markdown",
   "id": "cecaac91-c136-4042-a519-004e792ba3e9",
   "metadata": {},
   "source": [
    "# Extracting mile marker values and Route IDs from a GeoDataFrame with point geometries\n",
    "\n",
    "Suppose we have a GeoDataFrame of point geometries, but with no associated route ID or mile marker information. \n",
    "Suppose further that we also have the linework of the reference routes. \n",
    "\n",
    "We can use `linref` to extract the route ID and mile marker information for each for each of the rows of the input GeoDataFrame. \n",
    "\n",
    "The example below shows the step-by-step process."
   ]
  },
  {
   "cell_type": "code",
   "execution_count": 1,
   "id": "7c4eb0d7-a00c-44fb-9b89-73652a1d6327",
   "metadata": {},
   "outputs": [],
   "source": [
    "# Import dependencies\n",
    "from shapely.geometry import Point, LineString\n",
    "import geopandas as gpd\n",
    "import linref as lr"
   ]
  },
  {
   "cell_type": "markdown",
   "id": "0f552310-3fb3-481d-8901-61cd4e82ff89",
   "metadata": {},
   "source": [
    "First, let's create the sample DataFrames and GeoDataFrames we'll be using throughout this example."
   ]
  },
  {
   "cell_type": "code",
   "execution_count": 2,
   "id": "2067add6-53de-4d7f-aab9-846a50b44926",
   "metadata": {},
   "outputs": [],
   "source": [
    "# `point_df` is the GeoDataFrame containing the point geometries without route IDs or mile marker info.\n",
    "point_gdf = gpd.GeoDataFrame({\n",
    "    'point_id':[1,2,3,4],\n",
    "    'geometry':[\n",
    "        Point((1,0)),\n",
    "        Point((2,0)),\n",
    "        Point((3,2)),\n",
    "        Point((4,2))]\n",
    "})\n",
    "\n",
    "\n",
    "# `ref_gdf` is the GeoDataFrame that contains the reference linework of the roadway network\n",
    "ref_gdf = gpd.GeoDataFrame({\n",
    "    'route_id': ['A','B'],\n",
    "    'beg': [0,0],\n",
    "    'end': [5,5],\n",
    "    'geometry': [LineString(((0,0),(5,0))), LineString(((0,2),(5,2)))]\n",
    "})"
   ]
  },
  {
   "cell_type": "markdown",
   "id": "4ec5b870-b919-40f2-a296-c876a763ed98",
   "metadata": {},
   "source": [
    "The first processing step is to create an `EventCollection` object for the reference linework:"
   ]
  },
  {
   "cell_type": "code",
   "execution_count": 3,
   "id": "6157e492-1970-4080-82c1-23b381777d13",
   "metadata": {},
   "outputs": [],
   "source": [
    "# For the reference object, notice how we specify the `beg` and `end` parameters because we are dealing with a link-based object.\n",
    "# The idea here is that the `beg` and `end` columns indicate which columns contain the start and end mile marker information for \n",
    "# each link. \n",
    "ref_ec = lr.EventsCollection(\n",
    "    ref_gdf,\n",
    "    keys=['route_id'],\n",
    "    beg='beg',\n",
    "    end='end',\n",
    "    geom='geometry'\n",
    ")"
   ]
  },
  {
   "cell_type": "markdown",
   "id": "ac9a40af-6f99-4dc8-bfa9-2ebbc443d0aa",
   "metadata": {},
   "source": [
    "Then, we need to use the `project` method to find exactly how our input `point_gdf` GeoDataFrame matches up with the `ref_gdf` linework."
   ]
  },
  {
   "cell_type": "code",
   "execution_count": 4,
   "id": "6f724a2a-6a53-43e5-b5fe-ba670487e785",
   "metadata": {},
   "outputs": [
    {
     "name": "stdout",
     "output_type": "stream",
     "text": [
      "   point_id                 geometry route_id  mile_marker\n",
      "0         1  POINT (1.00000 0.00000)        A          1.0\n",
      "1         2  POINT (2.00000 0.00000)        A          2.0\n",
      "2         3  POINT (3.00000 2.00000)        B          3.0\n",
      "3         4  POINT (4.00000 2.00000)        B          4.0\n"
     ]
    }
   ],
   "source": [
    "# First, we ne need to project the point data onto the reference EventsCollection object.\n",
    "# As a result, this operation will generate another EventCollection object containing \n",
    "# all the relevant information needed.\n",
    "proj_ec = ref_ec.project(point_gdf)\n",
    "\n",
    "# We can then dig into the `.df` parameter of the resulting EventsCollection and pull\n",
    "# out the required columns. Note that the mile marker gets stored by default in a column\n",
    "# called `\"LOC\"`. \n",
    "point_gdf[['route_id','mile_marker']] = proj_ec.df[['route_id','LOC']]\n",
    "\n",
    "print(point_gdf)"
   ]
  },
  {
   "cell_type": "markdown",
   "id": "59c9f888-e73d-4a1c-9235-38d8e423c9b9",
   "metadata": {},
   "source": [
    "You can see that each row from the input `point_gdf` now has the relevant route ID and mile marker information."
   ]
  }
 ],
 "metadata": {
  "kernelspec": {
   "display_name": "Python 3 (ipykernel)",
   "language": "python",
   "name": "python3"
  },
  "language_info": {
   "codemirror_mode": {
    "name": "ipython",
    "version": 3
   },
   "file_extension": ".py",
   "mimetype": "text/x-python",
   "name": "python",
   "nbconvert_exporter": "python",
   "pygments_lexer": "ipython3",
   "version": "3.11.7"
  }
 },
 "nbformat": 4,
 "nbformat_minor": 5
}
