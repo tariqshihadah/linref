{
 "cells": [
  {
   "cell_type": "code",
   "execution_count": 1,
   "metadata": {},
   "outputs": [],
   "source": [
    "import linref as lr\n",
    "import linref_011 as lr011\n",
    "from linref.events import EventsData\n",
    "from linref.events import common, selection, modify, utility, analyze, geometry\n",
    "import numpy as np\n",
    "import pandas as pd\n",
    "import scipy.sparse as sparse\n",
    "import geopandas as gpd\n",
    "import linref as lr\n",
    "import warnings"
   ]
  },
  {
   "cell_type": "code",
   "execution_count": 2,
   "metadata": {},
   "outputs": [],
   "source": [
    "from shapely.geometry import LineString\n",
    "from linref.events.geometry import LineStringM, linemerge_m, prepare_chained_linestring_m\n",
    "import shapely\n",
    "\n",
    "l1 = shapely.from_wkt('LINESTRING (0 0, 1 0, 1 1, 2 1, 3 2)')\n",
    "l2 = shapely.from_wkt('LINESTRING (3 2, 4 3, 5 3, 6 4, 7 5)')\n",
    "l3 = shapely.from_wkt('LINESTRING (8 5, 8 6, 9 7, 10 8, 11 9)')\n",
    "lm1 = LineStringM(l1, [1, 5, 20, 30, 40])\n",
    "lm2 = LineStringM(l2, [40, 60, 70, 80, 90])\n",
    "lm3 = LineStringM(l3, [100, 110, 120, 130, 140])"
   ]
  },
  {
   "cell_type": "code",
   "execution_count": null,
   "metadata": {},
   "outputs": [],
   "source": []
  },
  {
   "cell_type": "code",
   "execution_count": null,
   "metadata": {},
   "outputs": [],
   "source": []
  },
  {
   "cell_type": "code",
   "execution_count": null,
   "metadata": {},
   "outputs": [],
   "source": []
  },
  {
   "cell_type": "code",
   "execution_count": 1,
   "metadata": {},
   "outputs": [],
   "source": [
    "import linref as lr\n",
    "import linref_011 as lr011\n",
    "from linref.events import EventsData\n",
    "from linref.events import common, selection, modify, utility, analyze, geometry\n",
    "import numpy as np\n",
    "import pandas as pd\n",
    "import scipy.sparse as sparse\n",
    "import geopandas as gpd\n",
    "import linref as lr\n",
    "import warnings"
   ]
  },
  {
   "cell_type": "code",
   "execution_count": 2,
   "metadata": {},
   "outputs": [],
   "source": [
    "df_linear_1 = pd.DataFrame(index=[7, 6, 9, 4, 3, 2, 0, 1], data={\n",
    "    'county': ['A', 'A', 'A', 'A', 'A' ,'B', 'B', 'B'],\n",
    "    'route': ['Main St', 'Main St', 'Main St', '1st Ave', '1st Ave', '2nd Ave', '2nd Ave', 'Sycamore School Rd'],\n",
    "    'beg': [0.0, 0.5, 1.1, 10.0, 12.0, 13.0, 13.1, 1.8],\n",
    "    'end': [0.4, 1.1, 3.0, 12.0, 13.0, 13.1, 14.0, 3.0],\n",
    "    'volume': [100, 200, 100, 400, 500, 150, 200, 800],\n",
    "    'class': ['B', 'A', 'A', 'A', 'B', 'A', 'A', 'A'],\n",
    "})\n",
    "#df_linear_1 = pd.concat([df_linear_1] * 100, ignore_index=True)#.sort_values(['route', 'beg'])\n",
    "df_linear_2 = pd.DataFrame({\n",
    "    'route': ['Main St', 'Main St', '1st Ave', '2nd Ave', '2nd Ave', 'Sycamore School Rd'],\n",
    "    'beg': [0.0, 1.0, 10.0, 13.0, 13.1, 2.2],\n",
    "    'end': [1.0, 2.0, 12.0, 13.0, 14.0, 2.8],\n",
    "    'street_type': ['A', 'B', 'A', 'A', 'B', 'A'],\n",
    "})\n",
    "#df_linear_2 = pd.concat([df_linear_2] * 100, ignore_index=True)#.sort_values(['route', 'beg'])\n",
    "\n",
    "ed1 = EventsData(index=df_linear_1.index, groups=df_linear_1.route, begs=df_linear_1.beg, ends=df_linear_1.end, closed='left_mod')\n",
    "ed2 = EventsData(index=df_linear_2.index, groups=df_linear_2.route, begs=df_linear_2.beg, ends=df_linear_2.end, closed='left_mod')\n",
    "ed3 = EventsData(index=df_linear_1.index, groups=df_linear_1.route, locs=df_linear_1.beg)"
   ]
  },
  {
   "cell_type": "code",
   "execution_count": 3,
   "metadata": {},
   "outputs": [],
   "source": [
    "import linref as lr\n",
    "lr.set_default_lrs(key_col=['county', 'route'], loc_col='loc', beg_col='beg', end_col='end', geom_col='geometry', closed='left_mod')\n",
    "df = pd.concat([df_linear_1] * 2000, ignore_index=True)"
   ]
  },
  {
   "cell_type": "code",
   "execution_count": 4,
   "metadata": {},
   "outputs": [],
   "source": [
    "dfs = []\n",
    "for i in range(2000):\n",
    "    x = df_linear_1.copy()\n",
    "    x['county'] = x['county'] + str(i)\n",
    "    dfs.append(x)\n",
    "df = pd.concat(dfs, ignore_index=True)"
   ]
  },
  {
   "cell_type": "code",
   "execution_count": 5,
   "metadata": {},
   "outputs": [],
   "source": [
    "dissolved = df.lr.dissolve(retain=['class'])"
   ]
  },
  {
   "cell_type": "code",
   "execution_count": 5,
   "metadata": {},
   "outputs": [],
   "source": [
    "dissolved, relation = df.lr.dissolve(return_relation=True)"
   ]
  },
  {
   "cell_type": "code",
   "execution_count": 23,
   "metadata": {},
   "outputs": [],
   "source": [
    "import shapely\n",
    "ls1 = shapely.LineString([(0, 0), (1, 0), (1, 1), (2, 1), (3, 2)])"
   ]
  },
  {
   "cell_type": "code",
   "execution_count": 36,
   "metadata": {},
   "outputs": [
    {
     "data": {
      "text/plain": [
       "array([1.        , 1.        , 1.        , 1.41421356])"
      ]
     },
     "execution_count": 36,
     "metadata": {},
     "output_type": "execute_result"
    }
   ],
   "source": [
    "np.sqrt(np.sum(np.power(np.diff(np.array(ls1.coords), axis=0), 2), axis=1))"
   ]
  },
  {
   "cell_type": "code",
   "execution_count": 33,
   "metadata": {},
   "outputs": [
    {
     "data": {
      "text/plain": [
       "array([0.        , 1.        , 1.41421356, 2.23606798, 3.60555128])"
      ]
     },
     "execution_count": 33,
     "metadata": {},
     "output_type": "execute_result"
    }
   ],
   "source": [
    "np.sqrt(np.power(np.array(ls1.coords), 2).sum(axis=1))"
   ]
  },
  {
   "cell_type": "code",
   "execution_count": null,
   "metadata": {},
   "outputs": [],
   "source": []
  },
  {
   "cell_type": "code",
   "execution_count": null,
   "metadata": {},
   "outputs": [],
   "source": []
  },
  {
   "cell_type": "code",
   "execution_count": null,
   "metadata": {},
   "outputs": [],
   "source": []
  },
  {
   "cell_type": "code",
   "execution_count": 18,
   "metadata": {},
   "outputs": [
    {
     "data": {
      "text/plain": [
       "<linref.events.relate.EventsRelation at 0x7f5be559ba10>"
      ]
     },
     "execution_count": 18,
     "metadata": {},
     "output_type": "execute_result"
    }
   ],
   "source": [
    "er = dissolved.lr.relate(df)\n",
    "arr = er.overlay()\n",
    "er"
   ]
  },
  {
   "cell_type": "code",
   "execution_count": 19,
   "metadata": {},
   "outputs": [
    {
     "data": {
      "text/plain": [
       "array([[0.0000e+00, 1.0000e+00],\n",
       "       [6.0000e+00, 8.0000e+00],\n",
       "       [6.0000e+00, 7.0000e+00],\n",
       "       ...,\n",
       "       [3.1992e+04, 3.1993e+04],\n",
       "       [6.3990e+04, 6.3992e+04],\n",
       "       [3.1998e+04, 3.1999e+04]], shape=(12000, 2))"
      ]
     },
     "execution_count": 19,
     "metadata": {},
     "output_type": "execute_result"
    }
   ],
   "source": [
    "er.sum(data=np.arange(32000).reshape(-1, 2), axis=1, squeeze=True)"
   ]
  },
  {
   "cell_type": "code",
   "execution_count": 20,
   "metadata": {},
   "outputs": [
    {
     "data": {
      "text/plain": [
       "array([[0.0000e+00, 1.0000e+00],\n",
       "       [6.0000e+00, 8.0000e+00],\n",
       "       [6.0000e+00, 7.0000e+00],\n",
       "       ...,\n",
       "       [3.1992e+04, 3.1993e+04],\n",
       "       [6.3990e+04, 6.3992e+04],\n",
       "       [3.1998e+04, 3.1999e+04]], shape=(12000, 2))"
      ]
     },
     "execution_count": 20,
     "metadata": {},
     "output_type": "execute_result"
    }
   ],
   "source": [
    "dissolved.lr.relate(df).sum(data=np.arange(32000).reshape(-1, 2), axis=1, squeeze=True)"
   ]
  }
 ],
 "metadata": {
  "kernelspec": {
   "display_name": "venv",
   "language": "python",
   "name": "python3"
  },
  "language_info": {
   "codemirror_mode": {
    "name": "ipython",
    "version": 3
   },
   "file_extension": ".py",
   "mimetype": "text/x-python",
   "name": "python",
   "nbconvert_exporter": "python",
   "pygments_lexer": "ipython3",
   "version": "3.12.3"
  }
 },
 "nbformat": 4,
 "nbformat_minor": 2
}
