{
 "cells": [
  {
   "cell_type": "markdown",
   "metadata": {},
   "source": [
    "TO-DO:\n",
    "- add merge_geom parameter to dissolve to automatically pull that using the created relation\n",
    "- add cut and interpolate aggregators"
   ]
  },
  {
   "cell_type": "code",
   "execution_count": 1,
   "metadata": {},
   "outputs": [],
   "source": [
    "import linref as lr\n",
    "import linref_011 as lr011\n",
    "from linref.events import EventsData\n",
    "from linref.events import common, selection, modify, utility, analyze, geometry\n",
    "import numpy as np\n",
    "import pandas as pd\n",
    "from shapely.geometry import LineString\n",
    "import scipy.sparse as sparse\n",
    "import geopandas as gpd\n",
    "import linref as lr\n",
    "import warnings"
   ]
  },
  {
   "cell_type": "code",
   "execution_count": 2,
   "metadata": {},
   "outputs": [],
   "source": [
    "lr.set_default_lrs(key_col=['county', 'route'], loc_col='loc', beg_col='beg', end_col='end', geom_col='geometry', closed='left_mod')\n",
    "\n",
    "df = gpd.read_file('testing/data/linear-events-3.geojson').set_index('index')"
   ]
  },
  {
   "cell_type": "code",
   "execution_count": 3,
   "metadata": {},
   "outputs": [
    {
     "data": {
      "text/plain": [
       "LRS(key_col=['county', 'route', 'chain'], loc_col=loc, beg_col=beg, end_col=end, geom_col=geometry, closed=left_mod)"
      ]
     },
     "execution_count": 3,
     "metadata": {},
     "output_type": "execute_result"
    }
   ],
   "source": [
    "df.lr.add_chaining(inplace=True)\n",
    "df.lr.active_lrs"
   ]
  },
  {
   "cell_type": "code",
   "execution_count": 4,
   "metadata": {},
   "outputs": [],
   "source": [
    "dissolved, relation = df.lr.dissolve(return_relation=True)"
   ]
  },
  {
   "cell_type": "code",
   "execution_count": 5,
   "metadata": {},
   "outputs": [],
   "source": [
    "df.lr.add_geom_m(inplace=True)"
   ]
  },
  {
   "cell_type": "code",
   "execution_count": 6,
   "metadata": {},
   "outputs": [
    {
     "data": {
      "text/plain": [
       "LINESTRING M (0.0 0.0 0.0, 0.8 0.0 0.4) # linref compatibility approximation"
      ]
     },
     "execution_count": 6,
     "metadata": {},
     "output_type": "execute_result"
    }
   ],
   "source": [
    "relation.linemerge_m(data=df.geometry_m)[0]"
   ]
  },
  {
   "cell_type": "code",
   "execution_count": 14,
   "metadata": {},
   "outputs": [
    {
     "data": {
      "text/plain": [
       "0    LINESTRING M (0.0 0.0 0.0, 0.8 0.0 0.4) # linr...\n",
       "1    LINESTRING M (1.0 0.0 0.5, 1.0 1.0 1.1, 2.0 1....\n",
       "2    LINESTRING M (10.0 0.0 10.0, 12.0 0.0 12.0, 13...\n",
       "3    LINESTRING M (13.0 0.0 13.0, 13.0 1.0 13.1, 14...\n",
       "4    LINESTRING M (1.0 3.0 1.8, 1.0 4.0 3.0) # linr...\n",
       "dtype: object"
      ]
     },
     "execution_count": 14,
     "metadata": {},
     "output_type": "execute_result"
    }
   ],
   "source": [
    "relation['geometry_m'].linemerge_m()"
   ]
  },
  {
   "cell_type": "code",
   "execution_count": 12,
   "metadata": {},
   "outputs": [
    {
     "data": {
      "text/plain": [
       "array([[100, 'B'],\n",
       "       [200, 'A'],\n",
       "       [400, 'A'],\n",
       "       [300, 'B'],\n",
       "       [800, 'A']], dtype=object)"
      ]
     },
     "execution_count": 12,
     "metadata": {},
     "output_type": "execute_result"
    }
   ],
   "source": [
    "relation[['volume', 'class']].mode()"
   ]
  }
 ],
 "metadata": {
  "kernelspec": {
   "display_name": "venv",
   "language": "python",
   "name": "python3"
  },
  "language_info": {
   "codemirror_mode": {
    "name": "ipython",
    "version": 3
   },
   "file_extension": ".py",
   "mimetype": "text/x-python",
   "name": "python",
   "nbconvert_exporter": "python",
   "pygments_lexer": "ipython3",
   "version": "3.12.3"
  }
 },
 "nbformat": 4,
 "nbformat_minor": 2
}
