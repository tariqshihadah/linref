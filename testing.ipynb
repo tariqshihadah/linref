{
 "cells": [
  {
   "cell_type": "code",
   "execution_count": 1,
   "metadata": {},
   "outputs": [],
   "source": [
    "import linref as lr\n",
    "import linref_011 as lr011\n",
    "from linref.events import Rangel\n",
    "from linref.events import common, selection, modify, utility, analyze\n",
    "import numpy as np\n",
    "import pandas as pd\n",
    "import scipy.sparse as sparse\n",
    "import geopandas as gpd\n",
    "import linref as lr\n",
    "import warnings"
   ]
  },
  {
   "cell_type": "code",
   "execution_count": 2,
   "metadata": {},
   "outputs": [],
   "source": [
    "df_linear_1 = pd.DataFrame(index=[7, 6, 9, 4, 3, 2, 0, 1], data={\n",
    "    'county': ['A', 'A', 'A', 'A', 'A' ,'B', 'B', 'B'],\n",
    "    'route': ['Main St', 'Main St', 'Main St', '1st Ave', '1st Ave', '2nd Ave', '2nd Ave', 'Sycamore School Rd'],\n",
    "    'beg': [0.0, 0.5, 1.1, 10.0, 12.0, 13.0, 13.1, 1.8],\n",
    "    'end': [0.4, 1.1, 3.0, 12.0, 13.0, 13.1, 14.0, 3.0],\n",
    "    'volume': [100, 200, 100, 400, 500, 150, 200, 800],\n",
    "})\n",
    "#df_linear_1 = pd.concat([df_linear_1] * 100, ignore_index=True)#.sort_values(['route', 'beg'])\n",
    "df_linear_2 = pd.DataFrame({\n",
    "    'route': ['Main St', 'Main St', '1st Ave', '2nd Ave', '2nd Ave', 'Sycamore School Rd'],\n",
    "    'beg': [0.0, 1.0, 10.0, 13.0, 13.1, 2.2],\n",
    "    'end': [1.0, 2.0, 12.0, 13.0, 14.0, 2.8],\n",
    "    'class': ['A', 'B', 'A', 'A', 'B', 'A'],\n",
    "})\n",
    "#df_linear_2 = pd.concat([df_linear_2] * 100, ignore_index=True)#.sort_values(['route', 'beg'])"
   ]
  },
  {
   "cell_type": "code",
   "execution_count": 3,
   "metadata": {},
   "outputs": [],
   "source": [
    "rng1 = Rangel(index=df_linear_1.index, groups=df_linear_1.route, begs=df_linear_1.beg, ends=df_linear_1.end, closed='left_mod')\n",
    "rng2 = Rangel(index=df_linear_2.index, groups=df_linear_2.route, begs=df_linear_2.beg, ends=df_linear_2.end, closed='left_mod')\n",
    "rng3 = Rangel(index=df_linear_1.index, groups=df_linear_1.route, locs=df_linear_1.beg)"
   ]
  },
  {
   "cell_type": "code",
   "execution_count": 4,
   "metadata": {},
   "outputs": [
    {
     "data": {
      "text/plain": [
       "array([ True,  True, False, False, False, False])"
      ]
     },
     "execution_count": 4,
     "metadata": {},
     "output_type": "execute_result"
    }
   ],
   "source": [
    "c = Rangel(groups=['a', 'a', 'b', 'a', 'b', 'c'], begs=[0, 0, 2, 3, 4, 5], ends=[1, 2, 3, 4, 5, 6], closed='left_mod')\n",
    "analyze.duplicated(c, subset=['begs'], keep='none')"
   ]
  },
  {
   "cell_type": "code",
   "execution_count": 18,
   "metadata": {},
   "outputs": [
    {
     "data": {
      "text/plain": [
       "array([1, 3])"
      ]
     },
     "execution_count": 18,
     "metadata": {},
     "output_type": "execute_result"
    }
   ],
   "source": [
    "np.unique()"
   ]
  },
  {
   "cell_type": "code",
   "execution_count": 41,
   "metadata": {},
   "outputs": [
    {
     "data": {
      "text/plain": [
       "array([[0, 0],\n",
       "       [1, 1],\n",
       "       [1, 2],\n",
       "       [2, 1]])"
      ]
     },
     "execution_count": 41,
     "metadata": {},
     "output_type": "execute_result"
    }
   ],
   "source": [
    "arr = np.random.randint(0, 3, 10).reshape(-1, 2)\n",
    "#arr = np.random.randint(0, 3, 5)\n",
    "np.unique(arr, axis=0)"
   ]
  },
  {
   "cell_type": "code",
   "execution_count": 42,
   "metadata": {},
   "outputs": [
    {
     "name": "stdout",
     "output_type": "stream",
     "text": [
      "[0 0]\n",
      "[2 1]\n",
      "[0 0]\n",
      "[1 2]\n",
      "[1 1]\n"
     ]
    }
   ],
   "source": [
    "for x in arr:\n",
    "    print(x)"
   ]
  },
  {
   "cell_type": "code",
   "execution_count": 10,
   "metadata": {},
   "outputs": [
    {
     "data": {
      "text/html": [
       "<div>\n",
       "<style scoped>\n",
       "    .dataframe tbody tr th:only-of-type {\n",
       "        vertical-align: middle;\n",
       "    }\n",
       "\n",
       "    .dataframe tbody tr th {\n",
       "        vertical-align: top;\n",
       "    }\n",
       "\n",
       "    .dataframe thead th {\n",
       "        text-align: right;\n",
       "    }\n",
       "</style>\n",
       "<table border=\"1\" class=\"dataframe\">\n",
       "  <thead>\n",
       "    <tr style=\"text-align: right;\">\n",
       "      <th></th>\n",
       "      <th>county</th>\n",
       "      <th>route</th>\n",
       "      <th>beg</th>\n",
       "      <th>end</th>\n",
       "      <th>volume</th>\n",
       "    </tr>\n",
       "  </thead>\n",
       "  <tbody>\n",
       "    <tr>\n",
       "      <th>0</th>\n",
       "      <td>A</td>\n",
       "      <td>Main St</td>\n",
       "      <td>10.0</td>\n",
       "      <td>10.4</td>\n",
       "      <td>100</td>\n",
       "    </tr>\n",
       "    <tr>\n",
       "      <th>1</th>\n",
       "      <td>A</td>\n",
       "      <td>Main St</td>\n",
       "      <td>10.5</td>\n",
       "      <td>11.1</td>\n",
       "      <td>200</td>\n",
       "    </tr>\n",
       "    <tr>\n",
       "      <th>2</th>\n",
       "      <td>A</td>\n",
       "      <td>Main St</td>\n",
       "      <td>11.1</td>\n",
       "      <td>13.0</td>\n",
       "      <td>100</td>\n",
       "    </tr>\n",
       "    <tr>\n",
       "      <th>3</th>\n",
       "      <td>A</td>\n",
       "      <td>1st Ave</td>\n",
       "      <td>20.0</td>\n",
       "      <td>22.0</td>\n",
       "      <td>400</td>\n",
       "    </tr>\n",
       "    <tr>\n",
       "      <th>4</th>\n",
       "      <td>A</td>\n",
       "      <td>1st Ave</td>\n",
       "      <td>22.0</td>\n",
       "      <td>23.0</td>\n",
       "      <td>500</td>\n",
       "    </tr>\n",
       "    <tr>\n",
       "      <th>...</th>\n",
       "      <td>...</td>\n",
       "      <td>...</td>\n",
       "      <td>...</td>\n",
       "      <td>...</td>\n",
       "      <td>...</td>\n",
       "    </tr>\n",
       "    <tr>\n",
       "      <th>799995</th>\n",
       "      <td>A</td>\n",
       "      <td>1st Ave</td>\n",
       "      <td>20.0</td>\n",
       "      <td>22.0</td>\n",
       "      <td>400</td>\n",
       "    </tr>\n",
       "    <tr>\n",
       "      <th>799996</th>\n",
       "      <td>A</td>\n",
       "      <td>1st Ave</td>\n",
       "      <td>22.0</td>\n",
       "      <td>23.0</td>\n",
       "      <td>500</td>\n",
       "    </tr>\n",
       "    <tr>\n",
       "      <th>799997</th>\n",
       "      <td>B</td>\n",
       "      <td>2nd Ave</td>\n",
       "      <td>23.0</td>\n",
       "      <td>23.1</td>\n",
       "      <td>150</td>\n",
       "    </tr>\n",
       "    <tr>\n",
       "      <th>799998</th>\n",
       "      <td>B</td>\n",
       "      <td>2nd Ave</td>\n",
       "      <td>23.1</td>\n",
       "      <td>24.0</td>\n",
       "      <td>200</td>\n",
       "    </tr>\n",
       "    <tr>\n",
       "      <th>799999</th>\n",
       "      <td>B</td>\n",
       "      <td>Sycamore School Rd</td>\n",
       "      <td>11.8</td>\n",
       "      <td>13.0</td>\n",
       "      <td>800</td>\n",
       "    </tr>\n",
       "  </tbody>\n",
       "</table>\n",
       "<p>800000 rows × 5 columns</p>\n",
       "</div>"
      ],
      "text/plain": [
       "       county               route   beg   end  volume\n",
       "0           A             Main St  10.0  10.4     100\n",
       "1           A             Main St  10.5  11.1     200\n",
       "2           A             Main St  11.1  13.0     100\n",
       "3           A             1st Ave  20.0  22.0     400\n",
       "4           A             1st Ave  22.0  23.0     500\n",
       "...       ...                 ...   ...   ...     ...\n",
       "799995      A             1st Ave  20.0  22.0     400\n",
       "799996      A             1st Ave  22.0  23.0     500\n",
       "799997      B             2nd Ave  23.0  23.1     150\n",
       "799998      B             2nd Ave  23.1  24.0     200\n",
       "799999      B  Sycamore School Rd  11.8  13.0     800\n",
       "\n",
       "[800000 rows x 5 columns]"
      ]
     },
     "execution_count": 10,
     "metadata": {},
     "output_type": "execute_result"
    }
   ],
   "source": [
    "from linref.ext.base import LRS\n",
    "lrs = LRS(['county', 'route'], 'loc', 'beg', 'end', 'geom', closed='left_mod')\n",
    "df = pd.concat([df_linear_1] * 100000, ignore_index=True)\n",
    "df.lr.set_lrs(lrs)\n",
    "x = df.lr.shift(10)\n",
    "x"
   ]
  },
  {
   "cell_type": "code",
   "execution_count": 11,
   "metadata": {},
   "outputs": [
    {
     "name": "stdout",
     "output_type": "stream",
     "text": [
      "86.6 ms ± 785 μs per loop (mean ± std. dev. of 7 runs, 10 loops each)\n"
     ]
    }
   ],
   "source": [
    "%%timeit\n",
    "x = df.lr.shift(10)"
   ]
  },
  {
   "cell_type": "code",
   "execution_count": 12,
   "metadata": {},
   "outputs": [],
   "source": [
    "ec = lr011.EventsCollection(df, keys=['county', 'route'], beg='beg', end='end', closed='left_mod')"
   ]
  },
  {
   "cell_type": "code",
   "execution_count": 13,
   "metadata": {},
   "outputs": [
    {
     "name": "stdout",
     "output_type": "stream",
     "text": [
      "53.9 ms ± 668 μs per loop (mean ± std. dev. of 7 runs, 10 loops each)\n"
     ]
    }
   ],
   "source": [
    "%%timeit\n",
    "y = ec.shift(10)"
   ]
  },
  {
   "cell_type": "code",
   "execution_count": null,
   "metadata": {},
   "outputs": [],
   "source": []
  }
 ],
 "metadata": {
  "kernelspec": {
   "display_name": "venv",
   "language": "python",
   "name": "python3"
  },
  "language_info": {
   "codemirror_mode": {
    "name": "ipython",
    "version": 3
   },
   "file_extension": ".py",
   "mimetype": "text/x-python",
   "name": "python",
   "nbconvert_exporter": "python",
   "pygments_lexer": "ipython3",
   "version": "3.12.3"
  }
 },
 "nbformat": 4,
 "nbformat_minor": 2
}
