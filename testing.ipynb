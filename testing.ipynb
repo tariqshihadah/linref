{
 "cells": [
  {
   "cell_type": "markdown",
   "metadata": {},
   "source": [
    "TO-DO:\n",
    "- add merge_geom parameter to dissolve to automatically pull that using the created relation\n",
    "- add cut and interpolate aggregators"
   ]
  },
  {
   "cell_type": "code",
   "execution_count": 1,
   "metadata": {},
   "outputs": [],
   "source": [
    "import linref as lr\n",
    "import linref_011 as lr011\n",
    "from linref.events import EventsData\n",
    "from linref.events import common, selection, modify, utility, analyze, geometry\n",
    "import numpy as np\n",
    "import pandas as pd\n",
    "from shapely.geometry import LineString\n",
    "import scipy.sparse as sparse\n",
    "import geopandas as gpd\n",
    "import linref as lr\n",
    "import warnings"
   ]
  },
  {
   "cell_type": "code",
   "execution_count": 2,
   "metadata": {},
   "outputs": [
    {
     "data": {
      "text/plain": [
       "LRS_Accessor with linear referencing system (LRS) objects:\n",
       "- LRS(key_col=['county', 'route'], loc_col=loc, beg_col=beg, end_col=end, geom_col=geometry, geom_m_col=None, closed=left_mod)"
      ]
     },
     "execution_count": 2,
     "metadata": {},
     "output_type": "execute_result"
    }
   ],
   "source": [
    "lr.set_default_lrs(key_col=['county', 'route'], loc_col='loc', beg_col='beg', end_col='end', geom_col='geometry', closed='left_mod')\n",
    "\n",
    "df = gpd.read_file('testing/data/linear-events-3.geojson').set_index('index')\n",
    "df.lr"
   ]
  },
  {
   "cell_type": "code",
   "execution_count": 3,
   "metadata": {},
   "outputs": [
    {
     "data": {
      "text/plain": [
       "LRS_Accessor with linear referencing system (LRS) objects:\n",
       "- LRS(key_col=['county', 'route', 'chain'], loc_col=loc, beg_col=beg, end_col=end, geom_col=geometry, geom_m_col=None, closed=left_mod)"
      ]
     },
     "execution_count": 3,
     "metadata": {},
     "output_type": "execute_result"
    }
   ],
   "source": [
    "df.lr.add_chaining(inplace=True)\n",
    "df.lr"
   ]
  },
  {
   "cell_type": "code",
   "execution_count": 4,
   "metadata": {},
   "outputs": [
    {
     "data": {
      "text/plain": [
       "LRS_Accessor with linear referencing system (LRS) objects:\n",
       "- LRS(key_col=['county', 'route', 'chain'], loc_col=loc, beg_col=beg, end_col=end, geom_col=geometry, geom_m_col=None, closed=left_mod)\n",
       "- LRS(key_col=['county', 'route', 'chain'], loc_col=loc, beg_col=beg, end_col=end, geom_col=geometry, geom_m_col=geometry_m, closed=left_mod)"
      ]
     },
     "execution_count": 4,
     "metadata": {},
     "output_type": "execute_result"
    }
   ],
   "source": [
    "df.lr.add_geom_m(inplace=True)\n",
    "df.lr"
   ]
  },
  {
   "cell_type": "code",
   "execution_count": 5,
   "metadata": {},
   "outputs": [
    {
     "data": {
      "text/html": [
       "<div>\n",
       "<style scoped>\n",
       "    .dataframe tbody tr th:only-of-type {\n",
       "        vertical-align: middle;\n",
       "    }\n",
       "\n",
       "    .dataframe tbody tr th {\n",
       "        vertical-align: top;\n",
       "    }\n",
       "\n",
       "    .dataframe thead th {\n",
       "        text-align: right;\n",
       "    }\n",
       "</style>\n",
       "<table border=\"1\" class=\"dataframe\">\n",
       "  <thead>\n",
       "    <tr style=\"text-align: right;\">\n",
       "      <th></th>\n",
       "      <th>county</th>\n",
       "      <th>route</th>\n",
       "      <th>beg</th>\n",
       "      <th>end</th>\n",
       "      <th>volume</th>\n",
       "      <th>class</th>\n",
       "      <th>geometry</th>\n",
       "      <th>chain</th>\n",
       "      <th>geometry_m</th>\n",
       "    </tr>\n",
       "    <tr>\n",
       "      <th>index</th>\n",
       "      <th></th>\n",
       "      <th></th>\n",
       "      <th></th>\n",
       "      <th></th>\n",
       "      <th></th>\n",
       "      <th></th>\n",
       "      <th></th>\n",
       "      <th></th>\n",
       "      <th></th>\n",
       "    </tr>\n",
       "  </thead>\n",
       "  <tbody>\n",
       "    <tr>\n",
       "      <th>7</th>\n",
       "      <td>A</td>\n",
       "      <td>Main St</td>\n",
       "      <td>0.0</td>\n",
       "      <td>0.4</td>\n",
       "      <td>100</td>\n",
       "      <td>B</td>\n",
       "      <td>LINESTRING (0 0, 0.8 0)</td>\n",
       "      <td>0</td>\n",
       "      <td>LINESTRING M (0.0 0.0 0.0, 0.8 0.0 0.4) # linr...</td>\n",
       "    </tr>\n",
       "    <tr>\n",
       "      <th>6</th>\n",
       "      <td>A</td>\n",
       "      <td>Main St</td>\n",
       "      <td>0.5</td>\n",
       "      <td>1.1</td>\n",
       "      <td>200</td>\n",
       "      <td>A</td>\n",
       "      <td>LINESTRING (1 0, 1 1)</td>\n",
       "      <td>1</td>\n",
       "      <td>LINESTRING M (1.0 0.0 0.5, 1.0 1.0 1.1) # linr...</td>\n",
       "    </tr>\n",
       "    <tr>\n",
       "      <th>9</th>\n",
       "      <td>A</td>\n",
       "      <td>Main St</td>\n",
       "      <td>1.1</td>\n",
       "      <td>3.0</td>\n",
       "      <td>200</td>\n",
       "      <td>A</td>\n",
       "      <td>LINESTRING (1 1, 2 1)</td>\n",
       "      <td>1</td>\n",
       "      <td>LINESTRING M (1.0 1.0 1.1, 2.0 1.0 3.0) # linr...</td>\n",
       "    </tr>\n",
       "    <tr>\n",
       "      <th>4</th>\n",
       "      <td>A</td>\n",
       "      <td>1st Ave</td>\n",
       "      <td>10.0</td>\n",
       "      <td>12.0</td>\n",
       "      <td>400</td>\n",
       "      <td>A</td>\n",
       "      <td>LINESTRING (10 0, 12 0)</td>\n",
       "      <td>0</td>\n",
       "      <td>LINESTRING M (10.0 0.0 10.0, 12.0 0.0 12.0) # ...</td>\n",
       "    </tr>\n",
       "    <tr>\n",
       "      <th>3</th>\n",
       "      <td>A</td>\n",
       "      <td>1st Ave</td>\n",
       "      <td>12.0</td>\n",
       "      <td>13.0</td>\n",
       "      <td>500</td>\n",
       "      <td>B</td>\n",
       "      <td>LINESTRING (12 0, 13 0)</td>\n",
       "      <td>0</td>\n",
       "      <td>LINESTRING M (12.0 0.0 12.0, 13.0 0.0 13.0) # ...</td>\n",
       "    </tr>\n",
       "    <tr>\n",
       "      <th>2</th>\n",
       "      <td>B</td>\n",
       "      <td>2nd Ave</td>\n",
       "      <td>13.0</td>\n",
       "      <td>13.1</td>\n",
       "      <td>150</td>\n",
       "      <td>A</td>\n",
       "      <td>LINESTRING (13 0, 13 1)</td>\n",
       "      <td>0</td>\n",
       "      <td>LINESTRING M (13.0 0.0 13.0, 13.0 1.0 13.1) # ...</td>\n",
       "    </tr>\n",
       "    <tr>\n",
       "      <th>0</th>\n",
       "      <td>B</td>\n",
       "      <td>2nd Ave</td>\n",
       "      <td>13.1</td>\n",
       "      <td>14.0</td>\n",
       "      <td>200</td>\n",
       "      <td>A</td>\n",
       "      <td>LINESTRING (13 1, 14 1)</td>\n",
       "      <td>0</td>\n",
       "      <td>LINESTRING M (13.0 1.0 13.1, 14.0 1.0 14.0) # ...</td>\n",
       "    </tr>\n",
       "    <tr>\n",
       "      <th>1</th>\n",
       "      <td>B</td>\n",
       "      <td>2nd Ave</td>\n",
       "      <td>14.0</td>\n",
       "      <td>17.0</td>\n",
       "      <td>300</td>\n",
       "      <td>B</td>\n",
       "      <td>LINESTRING (14 1, 17 1)</td>\n",
       "      <td>0</td>\n",
       "      <td>LINESTRING M (14.0 1.0 14.0, 17.0 1.0 17.0) # ...</td>\n",
       "    </tr>\n",
       "    <tr>\n",
       "      <th>10</th>\n",
       "      <td>B</td>\n",
       "      <td>2nd Ave</td>\n",
       "      <td>17.0</td>\n",
       "      <td>17.8</td>\n",
       "      <td>200</td>\n",
       "      <td>A</td>\n",
       "      <td>LINESTRING (17 1, 17 2)</td>\n",
       "      <td>0</td>\n",
       "      <td>LINESTRING M (17.0 1.0 17.0, 17.0 2.0 17.8) # ...</td>\n",
       "    </tr>\n",
       "    <tr>\n",
       "      <th>13</th>\n",
       "      <td>B</td>\n",
       "      <td>2nd Ave</td>\n",
       "      <td>17.8</td>\n",
       "      <td>18.1</td>\n",
       "      <td>150</td>\n",
       "      <td>C</td>\n",
       "      <td>LINESTRING (17 2, 17 3)</td>\n",
       "      <td>0</td>\n",
       "      <td>LINESTRING M (17.0 2.0 17.8, 17.0 3.0 18.1) # ...</td>\n",
       "    </tr>\n",
       "    <tr>\n",
       "      <th>8</th>\n",
       "      <td>C</td>\n",
       "      <td>Sycamore School Rd</td>\n",
       "      <td>1.8</td>\n",
       "      <td>3.0</td>\n",
       "      <td>800</td>\n",
       "      <td>A</td>\n",
       "      <td>LINESTRING (1 3, 1 4)</td>\n",
       "      <td>0</td>\n",
       "      <td>LINESTRING M (1.0 3.0 1.8, 1.0 4.0 3.0) # linr...</td>\n",
       "    </tr>\n",
       "  </tbody>\n",
       "</table>\n",
       "</div>"
      ],
      "text/plain": [
       "      county               route   beg   end  volume class  \\\n",
       "index                                                        \n",
       "7          A             Main St   0.0   0.4     100     B   \n",
       "6          A             Main St   0.5   1.1     200     A   \n",
       "9          A             Main St   1.1   3.0     200     A   \n",
       "4          A             1st Ave  10.0  12.0     400     A   \n",
       "3          A             1st Ave  12.0  13.0     500     B   \n",
       "2          B             2nd Ave  13.0  13.1     150     A   \n",
       "0          B             2nd Ave  13.1  14.0     200     A   \n",
       "1          B             2nd Ave  14.0  17.0     300     B   \n",
       "10         B             2nd Ave  17.0  17.8     200     A   \n",
       "13         B             2nd Ave  17.8  18.1     150     C   \n",
       "8          C  Sycamore School Rd   1.8   3.0     800     A   \n",
       "\n",
       "                      geometry  chain  \\\n",
       "index                                   \n",
       "7      LINESTRING (0 0, 0.8 0)      0   \n",
       "6        LINESTRING (1 0, 1 1)      1   \n",
       "9        LINESTRING (1 1, 2 1)      1   \n",
       "4      LINESTRING (10 0, 12 0)      0   \n",
       "3      LINESTRING (12 0, 13 0)      0   \n",
       "2      LINESTRING (13 0, 13 1)      0   \n",
       "0      LINESTRING (13 1, 14 1)      0   \n",
       "1      LINESTRING (14 1, 17 1)      0   \n",
       "10     LINESTRING (17 1, 17 2)      0   \n",
       "13     LINESTRING (17 2, 17 3)      0   \n",
       "8        LINESTRING (1 3, 1 4)      0   \n",
       "\n",
       "                                              geometry_m  \n",
       "index                                                     \n",
       "7      LINESTRING M (0.0 0.0 0.0, 0.8 0.0 0.4) # linr...  \n",
       "6      LINESTRING M (1.0 0.0 0.5, 1.0 1.0 1.1) # linr...  \n",
       "9      LINESTRING M (1.0 1.0 1.1, 2.0 1.0 3.0) # linr...  \n",
       "4      LINESTRING M (10.0 0.0 10.0, 12.0 0.0 12.0) # ...  \n",
       "3      LINESTRING M (12.0 0.0 12.0, 13.0 0.0 13.0) # ...  \n",
       "2      LINESTRING M (13.0 0.0 13.0, 13.0 1.0 13.1) # ...  \n",
       "0      LINESTRING M (13.0 1.0 13.1, 14.0 1.0 14.0) # ...  \n",
       "1      LINESTRING M (14.0 1.0 14.0, 17.0 1.0 17.0) # ...  \n",
       "10     LINESTRING M (17.0 1.0 17.0, 17.0 2.0 17.8) # ...  \n",
       "13     LINESTRING M (17.0 2.0 17.8, 17.0 3.0 18.1) # ...  \n",
       "8      LINESTRING M (1.0 3.0 1.8, 1.0 4.0 3.0) # linr...  "
      ]
     },
     "execution_count": 5,
     "metadata": {},
     "output_type": "execute_result"
    }
   ],
   "source": [
    "df"
   ]
  },
  {
   "cell_type": "code",
   "execution_count": 6,
   "metadata": {},
   "outputs": [],
   "source": [
    "dissolved, relation = df.lr.dissolve(return_relation=True)"
   ]
  },
  {
   "cell_type": "code",
   "execution_count": 7,
   "metadata": {},
   "outputs": [
    {
     "data": {
      "text/html": [
       "<div>\n",
       "<style scoped>\n",
       "    .dataframe tbody tr th:only-of-type {\n",
       "        vertical-align: middle;\n",
       "    }\n",
       "\n",
       "    .dataframe tbody tr th {\n",
       "        vertical-align: top;\n",
       "    }\n",
       "\n",
       "    .dataframe thead th {\n",
       "        text-align: right;\n",
       "    }\n",
       "</style>\n",
       "<table border=\"1\" class=\"dataframe\">\n",
       "  <thead>\n",
       "    <tr style=\"text-align: right;\">\n",
       "      <th></th>\n",
       "      <th>county</th>\n",
       "      <th>route</th>\n",
       "      <th>chain</th>\n",
       "      <th>beg</th>\n",
       "      <th>end</th>\n",
       "      <th>dissolved_index</th>\n",
       "      <th>geometry</th>\n",
       "      <th>geometry_m</th>\n",
       "    </tr>\n",
       "    <tr>\n",
       "      <th>index</th>\n",
       "      <th></th>\n",
       "      <th></th>\n",
       "      <th></th>\n",
       "      <th></th>\n",
       "      <th></th>\n",
       "      <th></th>\n",
       "      <th></th>\n",
       "      <th></th>\n",
       "    </tr>\n",
       "  </thead>\n",
       "  <tbody>\n",
       "    <tr>\n",
       "      <th>0</th>\n",
       "      <td>A</td>\n",
       "      <td>Main St</td>\n",
       "      <td>0</td>\n",
       "      <td>0.0</td>\n",
       "      <td>0.4</td>\n",
       "      <td>[7]</td>\n",
       "      <td>LINESTRING (0 0, 0.8 0)</td>\n",
       "      <td>LINESTRING M (0.0 0.0 0.0, 0.8 0.0 0.4) # linr...</td>\n",
       "    </tr>\n",
       "    <tr>\n",
       "      <th>1</th>\n",
       "      <td>A</td>\n",
       "      <td>Main St</td>\n",
       "      <td>1</td>\n",
       "      <td>0.5</td>\n",
       "      <td>3.0</td>\n",
       "      <td>[6, 9]</td>\n",
       "      <td>LINESTRING (1 0, 1 1, 2 1)</td>\n",
       "      <td>LINESTRING M (1.0 0.0 0.5, 1.0 1.0 1.1, 2.0 1....</td>\n",
       "    </tr>\n",
       "    <tr>\n",
       "      <th>2</th>\n",
       "      <td>A</td>\n",
       "      <td>1st Ave</td>\n",
       "      <td>0</td>\n",
       "      <td>10.0</td>\n",
       "      <td>13.0</td>\n",
       "      <td>[4, 3]</td>\n",
       "      <td>LINESTRING (10 0, 12 0, 13 0)</td>\n",
       "      <td>LINESTRING M (10.0 0.0 10.0, 12.0 0.0 12.0, 13...</td>\n",
       "    </tr>\n",
       "    <tr>\n",
       "      <th>3</th>\n",
       "      <td>B</td>\n",
       "      <td>2nd Ave</td>\n",
       "      <td>0</td>\n",
       "      <td>13.0</td>\n",
       "      <td>18.1</td>\n",
       "      <td>[2, 0, 1, 10, 13]</td>\n",
       "      <td>LINESTRING (13 0, 13 1, 14 1, 17 1, 17 2, 17 3)</td>\n",
       "      <td>LINESTRING M (13.0 0.0 13.0, 13.0 1.0 13.1, 14...</td>\n",
       "    </tr>\n",
       "    <tr>\n",
       "      <th>4</th>\n",
       "      <td>C</td>\n",
       "      <td>Sycamore School Rd</td>\n",
       "      <td>0</td>\n",
       "      <td>1.8</td>\n",
       "      <td>3.0</td>\n",
       "      <td>[8]</td>\n",
       "      <td>LINESTRING (1 3, 1 4)</td>\n",
       "      <td>LINESTRING M (1.0 3.0 1.8, 1.0 4.0 3.0) # linr...</td>\n",
       "    </tr>\n",
       "  </tbody>\n",
       "</table>\n",
       "</div>"
      ],
      "text/plain": [
       "      county               route  chain   beg   end    dissolved_index  \\\n",
       "index                                                                    \n",
       "0          A             Main St      0   0.0   0.4                [7]   \n",
       "1          A             Main St      1   0.5   3.0             [6, 9]   \n",
       "2          A             1st Ave      0  10.0  13.0             [4, 3]   \n",
       "3          B             2nd Ave      0  13.0  18.1  [2, 0, 1, 10, 13]   \n",
       "4          C  Sycamore School Rd      0   1.8   3.0                [8]   \n",
       "\n",
       "                                              geometry  \\\n",
       "index                                                    \n",
       "0                              LINESTRING (0 0, 0.8 0)   \n",
       "1                           LINESTRING (1 0, 1 1, 2 1)   \n",
       "2                        LINESTRING (10 0, 12 0, 13 0)   \n",
       "3      LINESTRING (13 0, 13 1, 14 1, 17 1, 17 2, 17 3)   \n",
       "4                                LINESTRING (1 3, 1 4)   \n",
       "\n",
       "                                              geometry_m  \n",
       "index                                                     \n",
       "0      LINESTRING M (0.0 0.0 0.0, 0.8 0.0 0.4) # linr...  \n",
       "1      LINESTRING M (1.0 0.0 0.5, 1.0 1.0 1.1, 2.0 1....  \n",
       "2      LINESTRING M (10.0 0.0 10.0, 12.0 0.0 12.0, 13...  \n",
       "3      LINESTRING M (13.0 0.0 13.0, 13.0 1.0 13.1, 14...  \n",
       "4      LINESTRING M (1.0 3.0 1.8, 1.0 4.0 3.0) # linr...  "
      ]
     },
     "execution_count": 7,
     "metadata": {},
     "output_type": "execute_result"
    }
   ],
   "source": [
    "dissolved"
   ]
  },
  {
   "cell_type": "code",
   "execution_count": 7,
   "metadata": {},
   "outputs": [
    {
     "data": {
      "text/plain": [
       "0    LINESTRING M (0.0 0.0 0.0, 0.8 0.0 0.4) # linr...\n",
       "1    LINESTRING M (1.0 0.0 0.5, 1.0 1.0 1.1, 2.0 1....\n",
       "2    LINESTRING M (10.0 0.0 10.0, 12.0 0.0 12.0, 13...\n",
       "3    LINESTRING M (13.0 0.0 13.0, 13.0 1.0 13.1, 14...\n",
       "4    LINESTRING M (1.0 3.0 1.8, 1.0 4.0 3.0) # linr...\n",
       "dtype: object"
      ]
     },
     "execution_count": 7,
     "metadata": {},
     "output_type": "execute_result"
    }
   ],
   "source": [
    "relation['geometry_m'].linemerge_m()"
   ]
  },
  {
   "cell_type": "code",
   "execution_count": 12,
   "metadata": {},
   "outputs": [
    {
     "data": {
      "text/plain": [
       "array([[100, 'B'],\n",
       "       [200, 'A'],\n",
       "       [400, 'A'],\n",
       "       [300, 'B'],\n",
       "       [800, 'A']], dtype=object)"
      ]
     },
     "execution_count": 12,
     "metadata": {},
     "output_type": "execute_result"
    }
   ],
   "source": [
    "relation[['volume', 'class']].mode()"
   ]
  }
 ],
 "metadata": {
  "kernelspec": {
   "display_name": "venv",
   "language": "python",
   "name": "python3"
  },
  "language_info": {
   "codemirror_mode": {
    "name": "ipython",
    "version": 3
   },
   "file_extension": ".py",
   "mimetype": "text/x-python",
   "name": "python",
   "nbconvert_exporter": "python",
   "pygments_lexer": "ipython3",
   "version": "3.12.3"
  }
 },
 "nbformat": 4,
 "nbformat_minor": 2
}
